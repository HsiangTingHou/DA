{
  "cells": [
    {
      "cell_type": "markdown",
      "source": [
        "#Kaggle Competition - Titanic - Machine Learning from Disaster (Top27%)\n",
        "\n",
        "##Kaggle競賽 - 鐵達尼號生存預測 "
      ],
      "metadata": {
        "id": "vhlnFj5LwOdp"
      }
    },
    {
      "cell_type": "markdown",
      "metadata": {
        "id": "CyaAPOyTX0NB"
      },
      "source": [
        "## 環境\n",
        "\n",
        "|環境|名稱|版本|\n",
        "|-|-|-|\n",
        "|作業系統|Windows|10|\n",
        "|程式執行環境|Colab||\n",
        "|python 版本|python3|3.10.2|\n",
        "|安裝環境|pip|22.0.4|"
      ]
    },
    {
      "cell_type": "markdown",
      "metadata": {
        "id": "V5-cIpvvX0NB"
      },
      "source": [
        "## 安裝\n",
        "\n",
        "\n",
        "```sh\n",
        "pip install -r requirement.txt\n",
        "```"
      ]
    },
    {
      "cell_type": "code",
      "execution_count": null,
      "metadata": {
        "id": "amN4gphrX0ND"
      },
      "outputs": [],
      "source": [
        "import time\n",
        "import numpy as np\n",
        "import pandas as pd\n",
        "\n",
        "EXECUTION_START_TIME = time.time() # 計算執行時間\n",
        "\n",
        "df = pd.read_csv('train.csv')      # 讀取資料"
      ]
    },
    {
      "cell_type": "markdown",
      "metadata": {
        "id": "WYcB7f6mX0NF"
      },
      "source": [
        "## 資料分析與前處理"
      ]
    },
    {
      "cell_type": "markdown",
      "metadata": {
        "id": "VRouGwf7rpXb"
      },
      "source": [
        "### 導入所需要的module"
      ]
    },
    {
      "cell_type": "code",
      "execution_count": null,
      "metadata": {
        "id": "yFMlxn1akFg1"
      },
      "outputs": [],
      "source": [
        "import random as rnd\n",
        "\n",
        "# 導入資料視覺化 module\n",
        "import seaborn as sns\n",
        "import matplotlib.pyplot as plt\n",
        "%matplotlib inline"
      ]
    },
    {
      "cell_type": "markdown",
      "metadata": {
        "id": "hvDlyxpGrpXc"
      },
      "source": [
        "### 載入訓練資料和測試資料"
      ]
    },
    {
      "cell_type": "code",
      "execution_count": null,
      "metadata": {
        "id": "506CAq9HFkNB"
      },
      "outputs": [],
      "source": [
        "# 載入訓練資料\n",
        "train=df\n",
        "# 載入測試資料\n",
        "test = pd.read_csv('test.csv')"
      ]
    },
    {
      "cell_type": "code",
      "execution_count": null,
      "metadata": {
        "id": "3dgY637xrpXd"
      },
      "outputs": [],
      "source": [
        "#去除不會用到的資訊(認為PassengerID，Ticket和Name並無法提供有用資訊)\n",
        "train = train.drop([\"PassengerId\", \"Ticket\", \"Name\"], axis=1)\n",
        "#保留測試資料的PassengerID\n",
        "PassengerId = test[\"PassengerId\"]\n",
        "test = test.drop([\"PassengerId\", \"Ticket\", \"Name\"], axis=1)"
      ]
    },
    {
      "cell_type": "markdown",
      "metadata": {
        "id": "lbcuh96CrpXe"
      },
      "source": [
        "### 檢查訓練資料集和測試資料集"
      ]
    },
    {
      "cell_type": "code",
      "execution_count": null,
      "metadata": {
        "id": "50HCWy4ArpXe",
        "colab": {
          "base_uri": "https://localhost:8080/",
          "height": 206
        },
        "outputId": "cc1cade1-db09-4698-ee02-a516701a6d44"
      },
      "outputs": [
        {
          "output_type": "execute_result",
          "data": {
            "text/plain": [
              "   Survived  Pclass     Sex   Age  SibSp  Parch     Fare Cabin Embarked\n",
              "0         0       3    male  22.0      1      0   7.2500   NaN        S\n",
              "1         1       1  female  38.0      1      0  71.2833   C85        C\n",
              "2         1       3  female  26.0      0      0   7.9250   NaN        S\n",
              "3         1       1  female  35.0      1      0  53.1000  C123        S\n",
              "4         0       3    male  35.0      0      0   8.0500   NaN        S"
            ],
            "text/html": [
              "\n",
              "  <div id=\"df-0417f806-e8d9-4c57-8b78-c36af0332038\">\n",
              "    <div class=\"colab-df-container\">\n",
              "      <div>\n",
              "<style scoped>\n",
              "    .dataframe tbody tr th:only-of-type {\n",
              "        vertical-align: middle;\n",
              "    }\n",
              "\n",
              "    .dataframe tbody tr th {\n",
              "        vertical-align: top;\n",
              "    }\n",
              "\n",
              "    .dataframe thead th {\n",
              "        text-align: right;\n",
              "    }\n",
              "</style>\n",
              "<table border=\"1\" class=\"dataframe\">\n",
              "  <thead>\n",
              "    <tr style=\"text-align: right;\">\n",
              "      <th></th>\n",
              "      <th>Survived</th>\n",
              "      <th>Pclass</th>\n",
              "      <th>Sex</th>\n",
              "      <th>Age</th>\n",
              "      <th>SibSp</th>\n",
              "      <th>Parch</th>\n",
              "      <th>Fare</th>\n",
              "      <th>Cabin</th>\n",
              "      <th>Embarked</th>\n",
              "    </tr>\n",
              "  </thead>\n",
              "  <tbody>\n",
              "    <tr>\n",
              "      <th>0</th>\n",
              "      <td>0</td>\n",
              "      <td>3</td>\n",
              "      <td>male</td>\n",
              "      <td>22.0</td>\n",
              "      <td>1</td>\n",
              "      <td>0</td>\n",
              "      <td>7.2500</td>\n",
              "      <td>NaN</td>\n",
              "      <td>S</td>\n",
              "    </tr>\n",
              "    <tr>\n",
              "      <th>1</th>\n",
              "      <td>1</td>\n",
              "      <td>1</td>\n",
              "      <td>female</td>\n",
              "      <td>38.0</td>\n",
              "      <td>1</td>\n",
              "      <td>0</td>\n",
              "      <td>71.2833</td>\n",
              "      <td>C85</td>\n",
              "      <td>C</td>\n",
              "    </tr>\n",
              "    <tr>\n",
              "      <th>2</th>\n",
              "      <td>1</td>\n",
              "      <td>3</td>\n",
              "      <td>female</td>\n",
              "      <td>26.0</td>\n",
              "      <td>0</td>\n",
              "      <td>0</td>\n",
              "      <td>7.9250</td>\n",
              "      <td>NaN</td>\n",
              "      <td>S</td>\n",
              "    </tr>\n",
              "    <tr>\n",
              "      <th>3</th>\n",
              "      <td>1</td>\n",
              "      <td>1</td>\n",
              "      <td>female</td>\n",
              "      <td>35.0</td>\n",
              "      <td>1</td>\n",
              "      <td>0</td>\n",
              "      <td>53.1000</td>\n",
              "      <td>C123</td>\n",
              "      <td>S</td>\n",
              "    </tr>\n",
              "    <tr>\n",
              "      <th>4</th>\n",
              "      <td>0</td>\n",
              "      <td>3</td>\n",
              "      <td>male</td>\n",
              "      <td>35.0</td>\n",
              "      <td>0</td>\n",
              "      <td>0</td>\n",
              "      <td>8.0500</td>\n",
              "      <td>NaN</td>\n",
              "      <td>S</td>\n",
              "    </tr>\n",
              "  </tbody>\n",
              "</table>\n",
              "</div>\n",
              "      <button class=\"colab-df-convert\" onclick=\"convertToInteractive('df-0417f806-e8d9-4c57-8b78-c36af0332038')\"\n",
              "              title=\"Convert this dataframe to an interactive table.\"\n",
              "              style=\"display:none;\">\n",
              "        \n",
              "  <svg xmlns=\"http://www.w3.org/2000/svg\" height=\"24px\"viewBox=\"0 0 24 24\"\n",
              "       width=\"24px\">\n",
              "    <path d=\"M0 0h24v24H0V0z\" fill=\"none\"/>\n",
              "    <path d=\"M18.56 5.44l.94 2.06.94-2.06 2.06-.94-2.06-.94-.94-2.06-.94 2.06-2.06.94zm-11 1L8.5 8.5l.94-2.06 2.06-.94-2.06-.94L8.5 2.5l-.94 2.06-2.06.94zm10 10l.94 2.06.94-2.06 2.06-.94-2.06-.94-.94-2.06-.94 2.06-2.06.94z\"/><path d=\"M17.41 7.96l-1.37-1.37c-.4-.4-.92-.59-1.43-.59-.52 0-1.04.2-1.43.59L10.3 9.45l-7.72 7.72c-.78.78-.78 2.05 0 2.83L4 21.41c.39.39.9.59 1.41.59.51 0 1.02-.2 1.41-.59l7.78-7.78 2.81-2.81c.8-.78.8-2.07 0-2.86zM5.41 20L4 18.59l7.72-7.72 1.47 1.35L5.41 20z\"/>\n",
              "  </svg>\n",
              "      </button>\n",
              "      \n",
              "  <style>\n",
              "    .colab-df-container {\n",
              "      display:flex;\n",
              "      flex-wrap:wrap;\n",
              "      gap: 12px;\n",
              "    }\n",
              "\n",
              "    .colab-df-convert {\n",
              "      background-color: #E8F0FE;\n",
              "      border: none;\n",
              "      border-radius: 50%;\n",
              "      cursor: pointer;\n",
              "      display: none;\n",
              "      fill: #1967D2;\n",
              "      height: 32px;\n",
              "      padding: 0 0 0 0;\n",
              "      width: 32px;\n",
              "    }\n",
              "\n",
              "    .colab-df-convert:hover {\n",
              "      background-color: #E2EBFA;\n",
              "      box-shadow: 0px 1px 2px rgba(60, 64, 67, 0.3), 0px 1px 3px 1px rgba(60, 64, 67, 0.15);\n",
              "      fill: #174EA6;\n",
              "    }\n",
              "\n",
              "    [theme=dark] .colab-df-convert {\n",
              "      background-color: #3B4455;\n",
              "      fill: #D2E3FC;\n",
              "    }\n",
              "\n",
              "    [theme=dark] .colab-df-convert:hover {\n",
              "      background-color: #434B5C;\n",
              "      box-shadow: 0px 1px 3px 1px rgba(0, 0, 0, 0.15);\n",
              "      filter: drop-shadow(0px 1px 2px rgba(0, 0, 0, 0.3));\n",
              "      fill: #FFFFFF;\n",
              "    }\n",
              "  </style>\n",
              "\n",
              "      <script>\n",
              "        const buttonEl =\n",
              "          document.querySelector('#df-0417f806-e8d9-4c57-8b78-c36af0332038 button.colab-df-convert');\n",
              "        buttonEl.style.display =\n",
              "          google.colab.kernel.accessAllowed ? 'block' : 'none';\n",
              "\n",
              "        async function convertToInteractive(key) {\n",
              "          const element = document.querySelector('#df-0417f806-e8d9-4c57-8b78-c36af0332038');\n",
              "          const dataTable =\n",
              "            await google.colab.kernel.invokeFunction('convertToInteractive',\n",
              "                                                     [key], {});\n",
              "          if (!dataTable) return;\n",
              "\n",
              "          const docLinkHtml = 'Like what you see? Visit the ' +\n",
              "            '<a target=\"_blank\" href=https://colab.research.google.com/notebooks/data_table.ipynb>data table notebook</a>'\n",
              "            + ' to learn more about interactive tables.';\n",
              "          element.innerHTML = '';\n",
              "          dataTable['output_type'] = 'display_data';\n",
              "          await google.colab.output.renderOutput(dataTable, element);\n",
              "          const docLink = document.createElement('div');\n",
              "          docLink.innerHTML = docLinkHtml;\n",
              "          element.appendChild(docLink);\n",
              "        }\n",
              "      </script>\n",
              "    </div>\n",
              "  </div>\n",
              "  "
            ]
          },
          "metadata": {},
          "execution_count": 204
        }
      ],
      "source": [
        "#查看訓練資料集\n",
        "train.head()"
      ]
    },
    {
      "cell_type": "code",
      "execution_count": null,
      "metadata": {
        "id": "X5ZI0OCirpXg",
        "colab": {
          "base_uri": "https://localhost:8080/",
          "height": 206
        },
        "outputId": "9276efea-06ef-4b66-9eb0-c40c70c54808"
      },
      "outputs": [
        {
          "output_type": "execute_result",
          "data": {
            "text/plain": [
              "   Pclass     Sex   Age  SibSp  Parch     Fare Cabin Embarked\n",
              "0       3    male  34.5      0      0   7.8292   NaN        Q\n",
              "1       3  female  47.0      1      0   7.0000   NaN        S\n",
              "2       2    male  62.0      0      0   9.6875   NaN        Q\n",
              "3       3    male  27.0      0      0   8.6625   NaN        S\n",
              "4       3  female  22.0      1      1  12.2875   NaN        S"
            ],
            "text/html": [
              "\n",
              "  <div id=\"df-156b6e63-bc77-4322-87c4-461aacaa800a\">\n",
              "    <div class=\"colab-df-container\">\n",
              "      <div>\n",
              "<style scoped>\n",
              "    .dataframe tbody tr th:only-of-type {\n",
              "        vertical-align: middle;\n",
              "    }\n",
              "\n",
              "    .dataframe tbody tr th {\n",
              "        vertical-align: top;\n",
              "    }\n",
              "\n",
              "    .dataframe thead th {\n",
              "        text-align: right;\n",
              "    }\n",
              "</style>\n",
              "<table border=\"1\" class=\"dataframe\">\n",
              "  <thead>\n",
              "    <tr style=\"text-align: right;\">\n",
              "      <th></th>\n",
              "      <th>Pclass</th>\n",
              "      <th>Sex</th>\n",
              "      <th>Age</th>\n",
              "      <th>SibSp</th>\n",
              "      <th>Parch</th>\n",
              "      <th>Fare</th>\n",
              "      <th>Cabin</th>\n",
              "      <th>Embarked</th>\n",
              "    </tr>\n",
              "  </thead>\n",
              "  <tbody>\n",
              "    <tr>\n",
              "      <th>0</th>\n",
              "      <td>3</td>\n",
              "      <td>male</td>\n",
              "      <td>34.5</td>\n",
              "      <td>0</td>\n",
              "      <td>0</td>\n",
              "      <td>7.8292</td>\n",
              "      <td>NaN</td>\n",
              "      <td>Q</td>\n",
              "    </tr>\n",
              "    <tr>\n",
              "      <th>1</th>\n",
              "      <td>3</td>\n",
              "      <td>female</td>\n",
              "      <td>47.0</td>\n",
              "      <td>1</td>\n",
              "      <td>0</td>\n",
              "      <td>7.0000</td>\n",
              "      <td>NaN</td>\n",
              "      <td>S</td>\n",
              "    </tr>\n",
              "    <tr>\n",
              "      <th>2</th>\n",
              "      <td>2</td>\n",
              "      <td>male</td>\n",
              "      <td>62.0</td>\n",
              "      <td>0</td>\n",
              "      <td>0</td>\n",
              "      <td>9.6875</td>\n",
              "      <td>NaN</td>\n",
              "      <td>Q</td>\n",
              "    </tr>\n",
              "    <tr>\n",
              "      <th>3</th>\n",
              "      <td>3</td>\n",
              "      <td>male</td>\n",
              "      <td>27.0</td>\n",
              "      <td>0</td>\n",
              "      <td>0</td>\n",
              "      <td>8.6625</td>\n",
              "      <td>NaN</td>\n",
              "      <td>S</td>\n",
              "    </tr>\n",
              "    <tr>\n",
              "      <th>4</th>\n",
              "      <td>3</td>\n",
              "      <td>female</td>\n",
              "      <td>22.0</td>\n",
              "      <td>1</td>\n",
              "      <td>1</td>\n",
              "      <td>12.2875</td>\n",
              "      <td>NaN</td>\n",
              "      <td>S</td>\n",
              "    </tr>\n",
              "  </tbody>\n",
              "</table>\n",
              "</div>\n",
              "      <button class=\"colab-df-convert\" onclick=\"convertToInteractive('df-156b6e63-bc77-4322-87c4-461aacaa800a')\"\n",
              "              title=\"Convert this dataframe to an interactive table.\"\n",
              "              style=\"display:none;\">\n",
              "        \n",
              "  <svg xmlns=\"http://www.w3.org/2000/svg\" height=\"24px\"viewBox=\"0 0 24 24\"\n",
              "       width=\"24px\">\n",
              "    <path d=\"M0 0h24v24H0V0z\" fill=\"none\"/>\n",
              "    <path d=\"M18.56 5.44l.94 2.06.94-2.06 2.06-.94-2.06-.94-.94-2.06-.94 2.06-2.06.94zm-11 1L8.5 8.5l.94-2.06 2.06-.94-2.06-.94L8.5 2.5l-.94 2.06-2.06.94zm10 10l.94 2.06.94-2.06 2.06-.94-2.06-.94-.94-2.06-.94 2.06-2.06.94z\"/><path d=\"M17.41 7.96l-1.37-1.37c-.4-.4-.92-.59-1.43-.59-.52 0-1.04.2-1.43.59L10.3 9.45l-7.72 7.72c-.78.78-.78 2.05 0 2.83L4 21.41c.39.39.9.59 1.41.59.51 0 1.02-.2 1.41-.59l7.78-7.78 2.81-2.81c.8-.78.8-2.07 0-2.86zM5.41 20L4 18.59l7.72-7.72 1.47 1.35L5.41 20z\"/>\n",
              "  </svg>\n",
              "      </button>\n",
              "      \n",
              "  <style>\n",
              "    .colab-df-container {\n",
              "      display:flex;\n",
              "      flex-wrap:wrap;\n",
              "      gap: 12px;\n",
              "    }\n",
              "\n",
              "    .colab-df-convert {\n",
              "      background-color: #E8F0FE;\n",
              "      border: none;\n",
              "      border-radius: 50%;\n",
              "      cursor: pointer;\n",
              "      display: none;\n",
              "      fill: #1967D2;\n",
              "      height: 32px;\n",
              "      padding: 0 0 0 0;\n",
              "      width: 32px;\n",
              "    }\n",
              "\n",
              "    .colab-df-convert:hover {\n",
              "      background-color: #E2EBFA;\n",
              "      box-shadow: 0px 1px 2px rgba(60, 64, 67, 0.3), 0px 1px 3px 1px rgba(60, 64, 67, 0.15);\n",
              "      fill: #174EA6;\n",
              "    }\n",
              "\n",
              "    [theme=dark] .colab-df-convert {\n",
              "      background-color: #3B4455;\n",
              "      fill: #D2E3FC;\n",
              "    }\n",
              "\n",
              "    [theme=dark] .colab-df-convert:hover {\n",
              "      background-color: #434B5C;\n",
              "      box-shadow: 0px 1px 3px 1px rgba(0, 0, 0, 0.15);\n",
              "      filter: drop-shadow(0px 1px 2px rgba(0, 0, 0, 0.3));\n",
              "      fill: #FFFFFF;\n",
              "    }\n",
              "  </style>\n",
              "\n",
              "      <script>\n",
              "        const buttonEl =\n",
              "          document.querySelector('#df-156b6e63-bc77-4322-87c4-461aacaa800a button.colab-df-convert');\n",
              "        buttonEl.style.display =\n",
              "          google.colab.kernel.accessAllowed ? 'block' : 'none';\n",
              "\n",
              "        async function convertToInteractive(key) {\n",
              "          const element = document.querySelector('#df-156b6e63-bc77-4322-87c4-461aacaa800a');\n",
              "          const dataTable =\n",
              "            await google.colab.kernel.invokeFunction('convertToInteractive',\n",
              "                                                     [key], {});\n",
              "          if (!dataTable) return;\n",
              "\n",
              "          const docLinkHtml = 'Like what you see? Visit the ' +\n",
              "            '<a target=\"_blank\" href=https://colab.research.google.com/notebooks/data_table.ipynb>data table notebook</a>'\n",
              "            + ' to learn more about interactive tables.';\n",
              "          element.innerHTML = '';\n",
              "          dataTable['output_type'] = 'display_data';\n",
              "          await google.colab.output.renderOutput(dataTable, element);\n",
              "          const docLink = document.createElement('div');\n",
              "          docLink.innerHTML = docLinkHtml;\n",
              "          element.appendChild(docLink);\n",
              "        }\n",
              "      </script>\n",
              "    </div>\n",
              "  </div>\n",
              "  "
            ]
          },
          "metadata": {},
          "execution_count": 205
        }
      ],
      "source": [
        "#查看測試資料集\n",
        "test.head()"
      ]
    },
    {
      "cell_type": "code",
      "execution_count": null,
      "metadata": {
        "id": "13LsCPdbIKqd",
        "colab": {
          "base_uri": "https://localhost:8080/"
        },
        "outputId": "a021068f-0eef-42ff-b305-43f75d987f98"
      },
      "outputs": [
        {
          "output_type": "stream",
          "name": "stdout",
          "text": [
            "<class 'pandas.core.frame.DataFrame'>\n",
            "RangeIndex: 891 entries, 0 to 890\n",
            "Data columns (total 9 columns):\n",
            " #   Column    Non-Null Count  Dtype  \n",
            "---  ------    --------------  -----  \n",
            " 0   Survived  891 non-null    int64  \n",
            " 1   Pclass    891 non-null    int64  \n",
            " 2   Sex       891 non-null    object \n",
            " 3   Age       714 non-null    float64\n",
            " 4   SibSp     891 non-null    int64  \n",
            " 5   Parch     891 non-null    int64  \n",
            " 6   Fare      891 non-null    float64\n",
            " 7   Cabin     204 non-null    object \n",
            " 8   Embarked  889 non-null    object \n",
            "dtypes: float64(2), int64(4), object(3)\n",
            "memory usage: 62.8+ KB\n"
          ]
        }
      ],
      "source": [
        "# 觀察資料是否有缺失值\n",
        "train.info()"
      ]
    },
    {
      "cell_type": "code",
      "execution_count": null,
      "metadata": {
        "id": "dNeD78wr8BXm",
        "colab": {
          "base_uri": "https://localhost:8080/"
        },
        "outputId": "3a084e42-831d-4b7f-c1e5-b3b5bc68fc22"
      },
      "outputs": [
        {
          "output_type": "stream",
          "name": "stdout",
          "text": [
            "<class 'pandas.core.frame.DataFrame'>\n",
            "RangeIndex: 418 entries, 0 to 417\n",
            "Data columns (total 8 columns):\n",
            " #   Column    Non-Null Count  Dtype  \n",
            "---  ------    --------------  -----  \n",
            " 0   Pclass    418 non-null    int64  \n",
            " 1   Sex       418 non-null    object \n",
            " 2   Age       332 non-null    float64\n",
            " 3   SibSp     418 non-null    int64  \n",
            " 4   Parch     418 non-null    int64  \n",
            " 5   Fare      417 non-null    float64\n",
            " 6   Cabin     91 non-null     object \n",
            " 7   Embarked  418 non-null    object \n",
            "dtypes: float64(2), int64(3), object(3)\n",
            "memory usage: 26.2+ KB\n"
          ]
        }
      ],
      "source": [
        "test.info()"
      ]
    },
    {
      "cell_type": "code",
      "execution_count": null,
      "metadata": {
        "id": "41mulIjTIfhq",
        "colab": {
          "base_uri": "https://localhost:8080/",
          "height": 300
        },
        "outputId": "f987697d-0364-4d5a-fb27-7b29f292bc92"
      },
      "outputs": [
        {
          "output_type": "execute_result",
          "data": {
            "text/plain": [
              "         Survived      Pclass         Age       SibSp       Parch        Fare\n",
              "count  891.000000  891.000000  714.000000  891.000000  891.000000  891.000000\n",
              "mean     0.383838    2.308642   29.699118    0.523008    0.381594   32.204208\n",
              "std      0.486592    0.836071   14.526497    1.102743    0.806057   49.693429\n",
              "min      0.000000    1.000000    0.420000    0.000000    0.000000    0.000000\n",
              "25%      0.000000    2.000000   20.125000    0.000000    0.000000    7.910400\n",
              "50%      0.000000    3.000000   28.000000    0.000000    0.000000   14.454200\n",
              "75%      1.000000    3.000000   38.000000    1.000000    0.000000   31.000000\n",
              "max      1.000000    3.000000   80.000000    8.000000    6.000000  512.329200"
            ],
            "text/html": [
              "\n",
              "  <div id=\"df-bbf7c998-f8fb-42dc-8b81-887384fa2eb6\">\n",
              "    <div class=\"colab-df-container\">\n",
              "      <div>\n",
              "<style scoped>\n",
              "    .dataframe tbody tr th:only-of-type {\n",
              "        vertical-align: middle;\n",
              "    }\n",
              "\n",
              "    .dataframe tbody tr th {\n",
              "        vertical-align: top;\n",
              "    }\n",
              "\n",
              "    .dataframe thead th {\n",
              "        text-align: right;\n",
              "    }\n",
              "</style>\n",
              "<table border=\"1\" class=\"dataframe\">\n",
              "  <thead>\n",
              "    <tr style=\"text-align: right;\">\n",
              "      <th></th>\n",
              "      <th>Survived</th>\n",
              "      <th>Pclass</th>\n",
              "      <th>Age</th>\n",
              "      <th>SibSp</th>\n",
              "      <th>Parch</th>\n",
              "      <th>Fare</th>\n",
              "    </tr>\n",
              "  </thead>\n",
              "  <tbody>\n",
              "    <tr>\n",
              "      <th>count</th>\n",
              "      <td>891.000000</td>\n",
              "      <td>891.000000</td>\n",
              "      <td>714.000000</td>\n",
              "      <td>891.000000</td>\n",
              "      <td>891.000000</td>\n",
              "      <td>891.000000</td>\n",
              "    </tr>\n",
              "    <tr>\n",
              "      <th>mean</th>\n",
              "      <td>0.383838</td>\n",
              "      <td>2.308642</td>\n",
              "      <td>29.699118</td>\n",
              "      <td>0.523008</td>\n",
              "      <td>0.381594</td>\n",
              "      <td>32.204208</td>\n",
              "    </tr>\n",
              "    <tr>\n",
              "      <th>std</th>\n",
              "      <td>0.486592</td>\n",
              "      <td>0.836071</td>\n",
              "      <td>14.526497</td>\n",
              "      <td>1.102743</td>\n",
              "      <td>0.806057</td>\n",
              "      <td>49.693429</td>\n",
              "    </tr>\n",
              "    <tr>\n",
              "      <th>min</th>\n",
              "      <td>0.000000</td>\n",
              "      <td>1.000000</td>\n",
              "      <td>0.420000</td>\n",
              "      <td>0.000000</td>\n",
              "      <td>0.000000</td>\n",
              "      <td>0.000000</td>\n",
              "    </tr>\n",
              "    <tr>\n",
              "      <th>25%</th>\n",
              "      <td>0.000000</td>\n",
              "      <td>2.000000</td>\n",
              "      <td>20.125000</td>\n",
              "      <td>0.000000</td>\n",
              "      <td>0.000000</td>\n",
              "      <td>7.910400</td>\n",
              "    </tr>\n",
              "    <tr>\n",
              "      <th>50%</th>\n",
              "      <td>0.000000</td>\n",
              "      <td>3.000000</td>\n",
              "      <td>28.000000</td>\n",
              "      <td>0.000000</td>\n",
              "      <td>0.000000</td>\n",
              "      <td>14.454200</td>\n",
              "    </tr>\n",
              "    <tr>\n",
              "      <th>75%</th>\n",
              "      <td>1.000000</td>\n",
              "      <td>3.000000</td>\n",
              "      <td>38.000000</td>\n",
              "      <td>1.000000</td>\n",
              "      <td>0.000000</td>\n",
              "      <td>31.000000</td>\n",
              "    </tr>\n",
              "    <tr>\n",
              "      <th>max</th>\n",
              "      <td>1.000000</td>\n",
              "      <td>3.000000</td>\n",
              "      <td>80.000000</td>\n",
              "      <td>8.000000</td>\n",
              "      <td>6.000000</td>\n",
              "      <td>512.329200</td>\n",
              "    </tr>\n",
              "  </tbody>\n",
              "</table>\n",
              "</div>\n",
              "      <button class=\"colab-df-convert\" onclick=\"convertToInteractive('df-bbf7c998-f8fb-42dc-8b81-887384fa2eb6')\"\n",
              "              title=\"Convert this dataframe to an interactive table.\"\n",
              "              style=\"display:none;\">\n",
              "        \n",
              "  <svg xmlns=\"http://www.w3.org/2000/svg\" height=\"24px\"viewBox=\"0 0 24 24\"\n",
              "       width=\"24px\">\n",
              "    <path d=\"M0 0h24v24H0V0z\" fill=\"none\"/>\n",
              "    <path d=\"M18.56 5.44l.94 2.06.94-2.06 2.06-.94-2.06-.94-.94-2.06-.94 2.06-2.06.94zm-11 1L8.5 8.5l.94-2.06 2.06-.94-2.06-.94L8.5 2.5l-.94 2.06-2.06.94zm10 10l.94 2.06.94-2.06 2.06-.94-2.06-.94-.94-2.06-.94 2.06-2.06.94z\"/><path d=\"M17.41 7.96l-1.37-1.37c-.4-.4-.92-.59-1.43-.59-.52 0-1.04.2-1.43.59L10.3 9.45l-7.72 7.72c-.78.78-.78 2.05 0 2.83L4 21.41c.39.39.9.59 1.41.59.51 0 1.02-.2 1.41-.59l7.78-7.78 2.81-2.81c.8-.78.8-2.07 0-2.86zM5.41 20L4 18.59l7.72-7.72 1.47 1.35L5.41 20z\"/>\n",
              "  </svg>\n",
              "      </button>\n",
              "      \n",
              "  <style>\n",
              "    .colab-df-container {\n",
              "      display:flex;\n",
              "      flex-wrap:wrap;\n",
              "      gap: 12px;\n",
              "    }\n",
              "\n",
              "    .colab-df-convert {\n",
              "      background-color: #E8F0FE;\n",
              "      border: none;\n",
              "      border-radius: 50%;\n",
              "      cursor: pointer;\n",
              "      display: none;\n",
              "      fill: #1967D2;\n",
              "      height: 32px;\n",
              "      padding: 0 0 0 0;\n",
              "      width: 32px;\n",
              "    }\n",
              "\n",
              "    .colab-df-convert:hover {\n",
              "      background-color: #E2EBFA;\n",
              "      box-shadow: 0px 1px 2px rgba(60, 64, 67, 0.3), 0px 1px 3px 1px rgba(60, 64, 67, 0.15);\n",
              "      fill: #174EA6;\n",
              "    }\n",
              "\n",
              "    [theme=dark] .colab-df-convert {\n",
              "      background-color: #3B4455;\n",
              "      fill: #D2E3FC;\n",
              "    }\n",
              "\n",
              "    [theme=dark] .colab-df-convert:hover {\n",
              "      background-color: #434B5C;\n",
              "      box-shadow: 0px 1px 3px 1px rgba(0, 0, 0, 0.15);\n",
              "      filter: drop-shadow(0px 1px 2px rgba(0, 0, 0, 0.3));\n",
              "      fill: #FFFFFF;\n",
              "    }\n",
              "  </style>\n",
              "\n",
              "      <script>\n",
              "        const buttonEl =\n",
              "          document.querySelector('#df-bbf7c998-f8fb-42dc-8b81-887384fa2eb6 button.colab-df-convert');\n",
              "        buttonEl.style.display =\n",
              "          google.colab.kernel.accessAllowed ? 'block' : 'none';\n",
              "\n",
              "        async function convertToInteractive(key) {\n",
              "          const element = document.querySelector('#df-bbf7c998-f8fb-42dc-8b81-887384fa2eb6');\n",
              "          const dataTable =\n",
              "            await google.colab.kernel.invokeFunction('convertToInteractive',\n",
              "                                                     [key], {});\n",
              "          if (!dataTable) return;\n",
              "\n",
              "          const docLinkHtml = 'Like what you see? Visit the ' +\n",
              "            '<a target=\"_blank\" href=https://colab.research.google.com/notebooks/data_table.ipynb>data table notebook</a>'\n",
              "            + ' to learn more about interactive tables.';\n",
              "          element.innerHTML = '';\n",
              "          dataTable['output_type'] = 'display_data';\n",
              "          await google.colab.output.renderOutput(dataTable, element);\n",
              "          const docLink = document.createElement('div');\n",
              "          docLink.innerHTML = docLinkHtml;\n",
              "          element.appendChild(docLink);\n",
              "        }\n",
              "      </script>\n",
              "    </div>\n",
              "  </div>\n",
              "  "
            ]
          },
          "metadata": {},
          "execution_count": 208
        }
      ],
      "source": [
        "# 觀察資料分布\n",
        "train.describe()"
      ]
    },
    {
      "cell_type": "code",
      "execution_count": null,
      "metadata": {
        "id": "F-WWkS-YJFT6",
        "colab": {
          "base_uri": "https://localhost:8080/",
          "height": 300
        },
        "outputId": "e01e6365-95b6-49ab-f500-2bdba20ebe55"
      },
      "outputs": [
        {
          "output_type": "execute_result",
          "data": {
            "text/plain": [
              "           Pclass         Age       SibSp       Parch        Fare\n",
              "count  418.000000  332.000000  418.000000  418.000000  417.000000\n",
              "mean     2.265550   30.272590    0.447368    0.392344   35.627188\n",
              "std      0.841838   14.181209    0.896760    0.981429   55.907576\n",
              "min      1.000000    0.170000    0.000000    0.000000    0.000000\n",
              "25%      1.000000   21.000000    0.000000    0.000000    7.895800\n",
              "50%      3.000000   27.000000    0.000000    0.000000   14.454200\n",
              "75%      3.000000   39.000000    1.000000    0.000000   31.500000\n",
              "max      3.000000   76.000000    8.000000    9.000000  512.329200"
            ],
            "text/html": [
              "\n",
              "  <div id=\"df-3da0cf44-6028-4768-ab02-2a8a6219d779\">\n",
              "    <div class=\"colab-df-container\">\n",
              "      <div>\n",
              "<style scoped>\n",
              "    .dataframe tbody tr th:only-of-type {\n",
              "        vertical-align: middle;\n",
              "    }\n",
              "\n",
              "    .dataframe tbody tr th {\n",
              "        vertical-align: top;\n",
              "    }\n",
              "\n",
              "    .dataframe thead th {\n",
              "        text-align: right;\n",
              "    }\n",
              "</style>\n",
              "<table border=\"1\" class=\"dataframe\">\n",
              "  <thead>\n",
              "    <tr style=\"text-align: right;\">\n",
              "      <th></th>\n",
              "      <th>Pclass</th>\n",
              "      <th>Age</th>\n",
              "      <th>SibSp</th>\n",
              "      <th>Parch</th>\n",
              "      <th>Fare</th>\n",
              "    </tr>\n",
              "  </thead>\n",
              "  <tbody>\n",
              "    <tr>\n",
              "      <th>count</th>\n",
              "      <td>418.000000</td>\n",
              "      <td>332.000000</td>\n",
              "      <td>418.000000</td>\n",
              "      <td>418.000000</td>\n",
              "      <td>417.000000</td>\n",
              "    </tr>\n",
              "    <tr>\n",
              "      <th>mean</th>\n",
              "      <td>2.265550</td>\n",
              "      <td>30.272590</td>\n",
              "      <td>0.447368</td>\n",
              "      <td>0.392344</td>\n",
              "      <td>35.627188</td>\n",
              "    </tr>\n",
              "    <tr>\n",
              "      <th>std</th>\n",
              "      <td>0.841838</td>\n",
              "      <td>14.181209</td>\n",
              "      <td>0.896760</td>\n",
              "      <td>0.981429</td>\n",
              "      <td>55.907576</td>\n",
              "    </tr>\n",
              "    <tr>\n",
              "      <th>min</th>\n",
              "      <td>1.000000</td>\n",
              "      <td>0.170000</td>\n",
              "      <td>0.000000</td>\n",
              "      <td>0.000000</td>\n",
              "      <td>0.000000</td>\n",
              "    </tr>\n",
              "    <tr>\n",
              "      <th>25%</th>\n",
              "      <td>1.000000</td>\n",
              "      <td>21.000000</td>\n",
              "      <td>0.000000</td>\n",
              "      <td>0.000000</td>\n",
              "      <td>7.895800</td>\n",
              "    </tr>\n",
              "    <tr>\n",
              "      <th>50%</th>\n",
              "      <td>3.000000</td>\n",
              "      <td>27.000000</td>\n",
              "      <td>0.000000</td>\n",
              "      <td>0.000000</td>\n",
              "      <td>14.454200</td>\n",
              "    </tr>\n",
              "    <tr>\n",
              "      <th>75%</th>\n",
              "      <td>3.000000</td>\n",
              "      <td>39.000000</td>\n",
              "      <td>1.000000</td>\n",
              "      <td>0.000000</td>\n",
              "      <td>31.500000</td>\n",
              "    </tr>\n",
              "    <tr>\n",
              "      <th>max</th>\n",
              "      <td>3.000000</td>\n",
              "      <td>76.000000</td>\n",
              "      <td>8.000000</td>\n",
              "      <td>9.000000</td>\n",
              "      <td>512.329200</td>\n",
              "    </tr>\n",
              "  </tbody>\n",
              "</table>\n",
              "</div>\n",
              "      <button class=\"colab-df-convert\" onclick=\"convertToInteractive('df-3da0cf44-6028-4768-ab02-2a8a6219d779')\"\n",
              "              title=\"Convert this dataframe to an interactive table.\"\n",
              "              style=\"display:none;\">\n",
              "        \n",
              "  <svg xmlns=\"http://www.w3.org/2000/svg\" height=\"24px\"viewBox=\"0 0 24 24\"\n",
              "       width=\"24px\">\n",
              "    <path d=\"M0 0h24v24H0V0z\" fill=\"none\"/>\n",
              "    <path d=\"M18.56 5.44l.94 2.06.94-2.06 2.06-.94-2.06-.94-.94-2.06-.94 2.06-2.06.94zm-11 1L8.5 8.5l.94-2.06 2.06-.94-2.06-.94L8.5 2.5l-.94 2.06-2.06.94zm10 10l.94 2.06.94-2.06 2.06-.94-2.06-.94-.94-2.06-.94 2.06-2.06.94z\"/><path d=\"M17.41 7.96l-1.37-1.37c-.4-.4-.92-.59-1.43-.59-.52 0-1.04.2-1.43.59L10.3 9.45l-7.72 7.72c-.78.78-.78 2.05 0 2.83L4 21.41c.39.39.9.59 1.41.59.51 0 1.02-.2 1.41-.59l7.78-7.78 2.81-2.81c.8-.78.8-2.07 0-2.86zM5.41 20L4 18.59l7.72-7.72 1.47 1.35L5.41 20z\"/>\n",
              "  </svg>\n",
              "      </button>\n",
              "      \n",
              "  <style>\n",
              "    .colab-df-container {\n",
              "      display:flex;\n",
              "      flex-wrap:wrap;\n",
              "      gap: 12px;\n",
              "    }\n",
              "\n",
              "    .colab-df-convert {\n",
              "      background-color: #E8F0FE;\n",
              "      border: none;\n",
              "      border-radius: 50%;\n",
              "      cursor: pointer;\n",
              "      display: none;\n",
              "      fill: #1967D2;\n",
              "      height: 32px;\n",
              "      padding: 0 0 0 0;\n",
              "      width: 32px;\n",
              "    }\n",
              "\n",
              "    .colab-df-convert:hover {\n",
              "      background-color: #E2EBFA;\n",
              "      box-shadow: 0px 1px 2px rgba(60, 64, 67, 0.3), 0px 1px 3px 1px rgba(60, 64, 67, 0.15);\n",
              "      fill: #174EA6;\n",
              "    }\n",
              "\n",
              "    [theme=dark] .colab-df-convert {\n",
              "      background-color: #3B4455;\n",
              "      fill: #D2E3FC;\n",
              "    }\n",
              "\n",
              "    [theme=dark] .colab-df-convert:hover {\n",
              "      background-color: #434B5C;\n",
              "      box-shadow: 0px 1px 3px 1px rgba(0, 0, 0, 0.15);\n",
              "      filter: drop-shadow(0px 1px 2px rgba(0, 0, 0, 0.3));\n",
              "      fill: #FFFFFF;\n",
              "    }\n",
              "  </style>\n",
              "\n",
              "      <script>\n",
              "        const buttonEl =\n",
              "          document.querySelector('#df-3da0cf44-6028-4768-ab02-2a8a6219d779 button.colab-df-convert');\n",
              "        buttonEl.style.display =\n",
              "          google.colab.kernel.accessAllowed ? 'block' : 'none';\n",
              "\n",
              "        async function convertToInteractive(key) {\n",
              "          const element = document.querySelector('#df-3da0cf44-6028-4768-ab02-2a8a6219d779');\n",
              "          const dataTable =\n",
              "            await google.colab.kernel.invokeFunction('convertToInteractive',\n",
              "                                                     [key], {});\n",
              "          if (!dataTable) return;\n",
              "\n",
              "          const docLinkHtml = 'Like what you see? Visit the ' +\n",
              "            '<a target=\"_blank\" href=https://colab.research.google.com/notebooks/data_table.ipynb>data table notebook</a>'\n",
              "            + ' to learn more about interactive tables.';\n",
              "          element.innerHTML = '';\n",
              "          dataTable['output_type'] = 'display_data';\n",
              "          await google.colab.output.renderOutput(dataTable, element);\n",
              "          const docLink = document.createElement('div');\n",
              "          docLink.innerHTML = docLinkHtml;\n",
              "          element.appendChild(docLink);\n",
              "        }\n",
              "      </script>\n",
              "    </div>\n",
              "  </div>\n",
              "  "
            ]
          },
          "metadata": {},
          "execution_count": 209
        }
      ],
      "source": [
        "test.describe()"
      ]
    },
    {
      "cell_type": "markdown",
      "metadata": {
        "id": "p-dTSrE3rpXl"
      },
      "source": [
        "### 資料觀察&分析\n",
        "將資料視覺化，透過圖表觀察train資料集的各項欄位和Survived是否有關連性，最後決定將與Survived有關連性的特徵(Sex,Pclass,Embarked,Family,Age,Fare等)作為輸入。"
      ]
    },
    {
      "cell_type": "markdown",
      "source": [
        "1-1.觀察性別(Sex)與生存率(Survived)的關係—女性生存率(0.74)遠高於男性(0.18)"
      ],
      "metadata": {
        "id": "THvL0mR8cp2v"
      }
    },
    {
      "cell_type": "code",
      "execution_count": null,
      "metadata": {
        "id": "oycyr5LgMazS",
        "colab": {
          "base_uri": "https://localhost:8080/",
          "height": 112
        },
        "outputId": "bac74d90-b087-486c-9276-34ca1951c23a"
      },
      "outputs": [
        {
          "output_type": "execute_result",
          "data": {
            "text/plain": [
              "      Sex  Survived\n",
              "0  female  0.742038\n",
              "1    male  0.188908"
            ],
            "text/html": [
              "\n",
              "  <div id=\"df-b9f64087-a633-4090-8a29-fbcd350d9281\">\n",
              "    <div class=\"colab-df-container\">\n",
              "      <div>\n",
              "<style scoped>\n",
              "    .dataframe tbody tr th:only-of-type {\n",
              "        vertical-align: middle;\n",
              "    }\n",
              "\n",
              "    .dataframe tbody tr th {\n",
              "        vertical-align: top;\n",
              "    }\n",
              "\n",
              "    .dataframe thead th {\n",
              "        text-align: right;\n",
              "    }\n",
              "</style>\n",
              "<table border=\"1\" class=\"dataframe\">\n",
              "  <thead>\n",
              "    <tr style=\"text-align: right;\">\n",
              "      <th></th>\n",
              "      <th>Sex</th>\n",
              "      <th>Survived</th>\n",
              "    </tr>\n",
              "  </thead>\n",
              "  <tbody>\n",
              "    <tr>\n",
              "      <th>0</th>\n",
              "      <td>female</td>\n",
              "      <td>0.742038</td>\n",
              "    </tr>\n",
              "    <tr>\n",
              "      <th>1</th>\n",
              "      <td>male</td>\n",
              "      <td>0.188908</td>\n",
              "    </tr>\n",
              "  </tbody>\n",
              "</table>\n",
              "</div>\n",
              "      <button class=\"colab-df-convert\" onclick=\"convertToInteractive('df-b9f64087-a633-4090-8a29-fbcd350d9281')\"\n",
              "              title=\"Convert this dataframe to an interactive table.\"\n",
              "              style=\"display:none;\">\n",
              "        \n",
              "  <svg xmlns=\"http://www.w3.org/2000/svg\" height=\"24px\"viewBox=\"0 0 24 24\"\n",
              "       width=\"24px\">\n",
              "    <path d=\"M0 0h24v24H0V0z\" fill=\"none\"/>\n",
              "    <path d=\"M18.56 5.44l.94 2.06.94-2.06 2.06-.94-2.06-.94-.94-2.06-.94 2.06-2.06.94zm-11 1L8.5 8.5l.94-2.06 2.06-.94-2.06-.94L8.5 2.5l-.94 2.06-2.06.94zm10 10l.94 2.06.94-2.06 2.06-.94-2.06-.94-.94-2.06-.94 2.06-2.06.94z\"/><path d=\"M17.41 7.96l-1.37-1.37c-.4-.4-.92-.59-1.43-.59-.52 0-1.04.2-1.43.59L10.3 9.45l-7.72 7.72c-.78.78-.78 2.05 0 2.83L4 21.41c.39.39.9.59 1.41.59.51 0 1.02-.2 1.41-.59l7.78-7.78 2.81-2.81c.8-.78.8-2.07 0-2.86zM5.41 20L4 18.59l7.72-7.72 1.47 1.35L5.41 20z\"/>\n",
              "  </svg>\n",
              "      </button>\n",
              "      \n",
              "  <style>\n",
              "    .colab-df-container {\n",
              "      display:flex;\n",
              "      flex-wrap:wrap;\n",
              "      gap: 12px;\n",
              "    }\n",
              "\n",
              "    .colab-df-convert {\n",
              "      background-color: #E8F0FE;\n",
              "      border: none;\n",
              "      border-radius: 50%;\n",
              "      cursor: pointer;\n",
              "      display: none;\n",
              "      fill: #1967D2;\n",
              "      height: 32px;\n",
              "      padding: 0 0 0 0;\n",
              "      width: 32px;\n",
              "    }\n",
              "\n",
              "    .colab-df-convert:hover {\n",
              "      background-color: #E2EBFA;\n",
              "      box-shadow: 0px 1px 2px rgba(60, 64, 67, 0.3), 0px 1px 3px 1px rgba(60, 64, 67, 0.15);\n",
              "      fill: #174EA6;\n",
              "    }\n",
              "\n",
              "    [theme=dark] .colab-df-convert {\n",
              "      background-color: #3B4455;\n",
              "      fill: #D2E3FC;\n",
              "    }\n",
              "\n",
              "    [theme=dark] .colab-df-convert:hover {\n",
              "      background-color: #434B5C;\n",
              "      box-shadow: 0px 1px 3px 1px rgba(0, 0, 0, 0.15);\n",
              "      filter: drop-shadow(0px 1px 2px rgba(0, 0, 0, 0.3));\n",
              "      fill: #FFFFFF;\n",
              "    }\n",
              "  </style>\n",
              "\n",
              "      <script>\n",
              "        const buttonEl =\n",
              "          document.querySelector('#df-b9f64087-a633-4090-8a29-fbcd350d9281 button.colab-df-convert');\n",
              "        buttonEl.style.display =\n",
              "          google.colab.kernel.accessAllowed ? 'block' : 'none';\n",
              "\n",
              "        async function convertToInteractive(key) {\n",
              "          const element = document.querySelector('#df-b9f64087-a633-4090-8a29-fbcd350d9281');\n",
              "          const dataTable =\n",
              "            await google.colab.kernel.invokeFunction('convertToInteractive',\n",
              "                                                     [key], {});\n",
              "          if (!dataTable) return;\n",
              "\n",
              "          const docLinkHtml = 'Like what you see? Visit the ' +\n",
              "            '<a target=\"_blank\" href=https://colab.research.google.com/notebooks/data_table.ipynb>data table notebook</a>'\n",
              "            + ' to learn more about interactive tables.';\n",
              "          element.innerHTML = '';\n",
              "          dataTable['output_type'] = 'display_data';\n",
              "          await google.colab.output.renderOutput(dataTable, element);\n",
              "          const docLink = document.createElement('div');\n",
              "          docLink.innerHTML = docLinkHtml;\n",
              "          element.appendChild(docLink);\n",
              "        }\n",
              "      </script>\n",
              "    </div>\n",
              "  </div>\n",
              "  "
            ]
          },
          "metadata": {},
          "execution_count": 210
        }
      ],
      "source": [
        "train[[\"Sex\", \"Survived\"]].groupby(['Sex'], as_index=False).mean().sort_values(by='Survived', ascending=False)"
      ]
    },
    {
      "cell_type": "markdown",
      "source": [
        "1-2.觀察性別(Sex)與生存率(Survived)的關係—女性生存率(0.74)遠高於男性(0.18)\n",
        "\n",
        "資料視覺化，使用Seaborn繪製條形圖"
      ],
      "metadata": {
        "id": "thjujQs4c4oz"
      }
    },
    {
      "cell_type": "code",
      "execution_count": null,
      "metadata": {
        "id": "DbrtXMTVaseF",
        "colab": {
          "base_uri": "https://localhost:8080/",
          "height": 296
        },
        "outputId": "e079aba5-2b49-4363-8dac-49e6429d01ce"
      },
      "outputs": [
        {
          "output_type": "execute_result",
          "data": {
            "text/plain": [
              "<matplotlib.axes._subplots.AxesSubplot at 0x7f65122a3910>"
            ]
          },
          "metadata": {},
          "execution_count": 211
        },
        {
          "output_type": "display_data",
          "data": {
            "text/plain": [
              "<Figure size 432x288 with 1 Axes>"
            ],
            "image/png": "[encoded data removed]"
          },
          "metadata": {
            "needs_background": "light"
          }
        }
      ],
      "source": [
        "sns.barplot(x='Sex', y='Survived', data=train)                  "
      ]
    },
    {
      "cell_type": "markdown",
      "source": [
        "2-1.觀察船票等級(Pclass)與生存率(Survived)的關係—船票等級越高(1>2>3)，生存率越高(0.62>0.47>0.24)"
      ],
      "metadata": {
        "id": "XQTOhzmHdDwh"
      }
    },
    {
      "cell_type": "code",
      "execution_count": null,
      "metadata": {
        "id": "ZiHLEVWXh9tE",
        "colab": {
          "base_uri": "https://localhost:8080/",
          "height": 143
        },
        "outputId": "b2dc6a46-b5bc-4a89-b7b8-cbe0e5adb002"
      },
      "outputs": [
        {
          "output_type": "execute_result",
          "data": {
            "text/plain": [
              "   Pclass  Survived\n",
              "0       1  0.629630\n",
              "1       2  0.472826\n",
              "2       3  0.242363"
            ],
            "text/html": [
              "\n",
              "  <div id=\"df-c7499574-7074-46a4-9665-16d1da560823\">\n",
              "    <div class=\"colab-df-container\">\n",
              "      <div>\n",
              "<style scoped>\n",
              "    .dataframe tbody tr th:only-of-type {\n",
              "        vertical-align: middle;\n",
              "    }\n",
              "\n",
              "    .dataframe tbody tr th {\n",
              "        vertical-align: top;\n",
              "    }\n",
              "\n",
              "    .dataframe thead th {\n",
              "        text-align: right;\n",
              "    }\n",
              "</style>\n",
              "<table border=\"1\" class=\"dataframe\">\n",
              "  <thead>\n",
              "    <tr style=\"text-align: right;\">\n",
              "      <th></th>\n",
              "      <th>Pclass</th>\n",
              "      <th>Survived</th>\n",
              "    </tr>\n",
              "  </thead>\n",
              "  <tbody>\n",
              "    <tr>\n",
              "      <th>0</th>\n",
              "      <td>1</td>\n",
              "      <td>0.629630</td>\n",
              "    </tr>\n",
              "    <tr>\n",
              "      <th>1</th>\n",
              "      <td>2</td>\n",
              "      <td>0.472826</td>\n",
              "    </tr>\n",
              "    <tr>\n",
              "      <th>2</th>\n",
              "      <td>3</td>\n",
              "      <td>0.242363</td>\n",
              "    </tr>\n",
              "  </tbody>\n",
              "</table>\n",
              "</div>\n",
              "      <button class=\"colab-df-convert\" onclick=\"convertToInteractive('df-c7499574-7074-46a4-9665-16d1da560823')\"\n",
              "              title=\"Convert this dataframe to an interactive table.\"\n",
              "              style=\"display:none;\">\n",
              "        \n",
              "  <svg xmlns=\"http://www.w3.org/2000/svg\" height=\"24px\"viewBox=\"0 0 24 24\"\n",
              "       width=\"24px\">\n",
              "    <path d=\"M0 0h24v24H0V0z\" fill=\"none\"/>\n",
              "    <path d=\"M18.56 5.44l.94 2.06.94-2.06 2.06-.94-2.06-.94-.94-2.06-.94 2.06-2.06.94zm-11 1L8.5 8.5l.94-2.06 2.06-.94-2.06-.94L8.5 2.5l-.94 2.06-2.06.94zm10 10l.94 2.06.94-2.06 2.06-.94-2.06-.94-.94-2.06-.94 2.06-2.06.94z\"/><path d=\"M17.41 7.96l-1.37-1.37c-.4-.4-.92-.59-1.43-.59-.52 0-1.04.2-1.43.59L10.3 9.45l-7.72 7.72c-.78.78-.78 2.05 0 2.83L4 21.41c.39.39.9.59 1.41.59.51 0 1.02-.2 1.41-.59l7.78-7.78 2.81-2.81c.8-.78.8-2.07 0-2.86zM5.41 20L4 18.59l7.72-7.72 1.47 1.35L5.41 20z\"/>\n",
              "  </svg>\n",
              "      </button>\n",
              "      \n",
              "  <style>\n",
              "    .colab-df-container {\n",
              "      display:flex;\n",
              "      flex-wrap:wrap;\n",
              "      gap: 12px;\n",
              "    }\n",
              "\n",
              "    .colab-df-convert {\n",
              "      background-color: #E8F0FE;\n",
              "      border: none;\n",
              "      border-radius: 50%;\n",
              "      cursor: pointer;\n",
              "      display: none;\n",
              "      fill: #1967D2;\n",
              "      height: 32px;\n",
              "      padding: 0 0 0 0;\n",
              "      width: 32px;\n",
              "    }\n",
              "\n",
              "    .colab-df-convert:hover {\n",
              "      background-color: #E2EBFA;\n",
              "      box-shadow: 0px 1px 2px rgba(60, 64, 67, 0.3), 0px 1px 3px 1px rgba(60, 64, 67, 0.15);\n",
              "      fill: #174EA6;\n",
              "    }\n",
              "\n",
              "    [theme=dark] .colab-df-convert {\n",
              "      background-color: #3B4455;\n",
              "      fill: #D2E3FC;\n",
              "    }\n",
              "\n",
              "    [theme=dark] .colab-df-convert:hover {\n",
              "      background-color: #434B5C;\n",
              "      box-shadow: 0px 1px 3px 1px rgba(0, 0, 0, 0.15);\n",
              "      filter: drop-shadow(0px 1px 2px rgba(0, 0, 0, 0.3));\n",
              "      fill: #FFFFFF;\n",
              "    }\n",
              "  </style>\n",
              "\n",
              "      <script>\n",
              "        const buttonEl =\n",
              "          document.querySelector('#df-c7499574-7074-46a4-9665-16d1da560823 button.colab-df-convert');\n",
              "        buttonEl.style.display =\n",
              "          google.colab.kernel.accessAllowed ? 'block' : 'none';\n",
              "\n",
              "        async function convertToInteractive(key) {\n",
              "          const element = document.querySelector('#df-c7499574-7074-46a4-9665-16d1da560823');\n",
              "          const dataTable =\n",
              "            await google.colab.kernel.invokeFunction('convertToInteractive',\n",
              "                                                     [key], {});\n",
              "          if (!dataTable) return;\n",
              "\n",
              "          const docLinkHtml = 'Like what you see? Visit the ' +\n",
              "            '<a target=\"_blank\" href=https://colab.research.google.com/notebooks/data_table.ipynb>data table notebook</a>'\n",
              "            + ' to learn more about interactive tables.';\n",
              "          element.innerHTML = '';\n",
              "          dataTable['output_type'] = 'display_data';\n",
              "          await google.colab.output.renderOutput(dataTable, element);\n",
              "          const docLink = document.createElement('div');\n",
              "          docLink.innerHTML = docLinkHtml;\n",
              "          element.appendChild(docLink);\n",
              "        }\n",
              "      </script>\n",
              "    </div>\n",
              "  </div>\n",
              "  "
            ]
          },
          "metadata": {},
          "execution_count": 212
        }
      ],
      "source": [
        "\n",
        "train[[\"Pclass\", \"Survived\"]].groupby(['Pclass'], as_index=False).mean().sort_values(by='Survived', ascending=False)"
      ]
    },
    {
      "cell_type": "markdown",
      "source": [
        "2-2.觀察船票等級(Pclass)與生存率(Survived)的關係—船票等級越高(1>2>3)，生存率越高(0.62>0.47>0.24)\n",
        "\n",
        "資料視覺化，使用Seaborn繪製條形圖"
      ],
      "metadata": {
        "id": "Q_wdPcbRdYav"
      }
    },
    {
      "cell_type": "code",
      "execution_count": null,
      "metadata": {
        "id": "sKHPOtbOlFij",
        "colab": {
          "base_uri": "https://localhost:8080/",
          "height": 296
        },
        "outputId": "d5b1f0ca-9b8b-41e9-b3d9-283a4ecff05a"
      },
      "outputs": [
        {
          "output_type": "execute_result",
          "data": {
            "text/plain": [
              "<matplotlib.axes._subplots.AxesSubplot at 0x7f65113dd610>"
            ]
          },
          "metadata": {},
          "execution_count": 213
        },
        {
          "output_type": "display_data",
          "data": {
            "text/plain": [
              "<Figure size 432x288 with 1 Axes>"
            ],
            "image/png": "[encoded data removed]"
          },
          "metadata": {
            "needs_background": "light"
          }
        }
      ],
      "source": [
        "sns.barplot(x='Pclass', y='Survived', data=train)                 "
      ]
    },
    {
      "cell_type": "markdown",
      "source": [
        "3-1.觀察上船港口(Embarked)與生存率(Survived)的關係—在C港(Cherbourg)上船的乘客生存率最高(0.55);而在S港(Southampton)上船的生存率最低(0.33)"
      ],
      "metadata": {
        "id": "t03VIgVTdivW"
      }
    },
    {
      "cell_type": "code",
      "execution_count": null,
      "metadata": {
        "id": "Y5LqzoaBu23L",
        "colab": {
          "base_uri": "https://localhost:8080/",
          "height": 143
        },
        "outputId": "a0a5434c-279f-4f7a-c971-118e751f7ee4"
      },
      "outputs": [
        {
          "output_type": "execute_result",
          "data": {
            "text/plain": [
              "  Embarked  Survived\n",
              "0        C  0.553571\n",
              "1        Q  0.389610\n",
              "2        S  0.336957"
            ],
            "text/html": [
              "\n",
              "  <div id=\"df-e020f727-cf70-4ef1-bec6-e2fd4f84d2b4\">\n",
              "    <div class=\"colab-df-container\">\n",
              "      <div>\n",
              "<style scoped>\n",
              "    .dataframe tbody tr th:only-of-type {\n",
              "        vertical-align: middle;\n",
              "    }\n",
              "\n",
              "    .dataframe tbody tr th {\n",
              "        vertical-align: top;\n",
              "    }\n",
              "\n",
              "    .dataframe thead th {\n",
              "        text-align: right;\n",
              "    }\n",
              "</style>\n",
              "<table border=\"1\" class=\"dataframe\">\n",
              "  <thead>\n",
              "    <tr style=\"text-align: right;\">\n",
              "      <th></th>\n",
              "      <th>Embarked</th>\n",
              "      <th>Survived</th>\n",
              "    </tr>\n",
              "  </thead>\n",
              "  <tbody>\n",
              "    <tr>\n",
              "      <th>0</th>\n",
              "      <td>C</td>\n",
              "      <td>0.553571</td>\n",
              "    </tr>\n",
              "    <tr>\n",
              "      <th>1</th>\n",
              "      <td>Q</td>\n",
              "      <td>0.389610</td>\n",
              "    </tr>\n",
              "    <tr>\n",
              "      <th>2</th>\n",
              "      <td>S</td>\n",
              "      <td>0.336957</td>\n",
              "    </tr>\n",
              "  </tbody>\n",
              "</table>\n",
              "</div>\n",
              "      <button class=\"colab-df-convert\" onclick=\"convertToInteractive('df-e020f727-cf70-4ef1-bec6-e2fd4f84d2b4')\"\n",
              "              title=\"Convert this dataframe to an interactive table.\"\n",
              "              style=\"display:none;\">\n",
              "        \n",
              "  <svg xmlns=\"http://www.w3.org/2000/svg\" height=\"24px\"viewBox=\"0 0 24 24\"\n",
              "       width=\"24px\">\n",
              "    <path d=\"M0 0h24v24H0V0z\" fill=\"none\"/>\n",
              "    <path d=\"M18.56 5.44l.94 2.06.94-2.06 2.06-.94-2.06-.94-.94-2.06-.94 2.06-2.06.94zm-11 1L8.5 8.5l.94-2.06 2.06-.94-2.06-.94L8.5 2.5l-.94 2.06-2.06.94zm10 10l.94 2.06.94-2.06 2.06-.94-2.06-.94-.94-2.06-.94 2.06-2.06.94z\"/><path d=\"M17.41 7.96l-1.37-1.37c-.4-.4-.92-.59-1.43-.59-.52 0-1.04.2-1.43.59L10.3 9.45l-7.72 7.72c-.78.78-.78 2.05 0 2.83L4 21.41c.39.39.9.59 1.41.59.51 0 1.02-.2 1.41-.59l7.78-7.78 2.81-2.81c.8-.78.8-2.07 0-2.86zM5.41 20L4 18.59l7.72-7.72 1.47 1.35L5.41 20z\"/>\n",
              "  </svg>\n",
              "      </button>\n",
              "      \n",
              "  <style>\n",
              "    .colab-df-container {\n",
              "      display:flex;\n",
              "      flex-wrap:wrap;\n",
              "      gap: 12px;\n",
              "    }\n",
              "\n",
              "    .colab-df-convert {\n",
              "      background-color: #E8F0FE;\n",
              "      border: none;\n",
              "      border-radius: 50%;\n",
              "      cursor: pointer;\n",
              "      display: none;\n",
              "      fill: #1967D2;\n",
              "      height: 32px;\n",
              "      padding: 0 0 0 0;\n",
              "      width: 32px;\n",
              "    }\n",
              "\n",
              "    .colab-df-convert:hover {\n",
              "      background-color: #E2EBFA;\n",
              "      box-shadow: 0px 1px 2px rgba(60, 64, 67, 0.3), 0px 1px 3px 1px rgba(60, 64, 67, 0.15);\n",
              "      fill: #174EA6;\n",
              "    }\n",
              "\n",
              "    [theme=dark] .colab-df-convert {\n",
              "      background-color: #3B4455;\n",
              "      fill: #D2E3FC;\n",
              "    }\n",
              "\n",
              "    [theme=dark] .colab-df-convert:hover {\n",
              "      background-color: #434B5C;\n",
              "      box-shadow: 0px 1px 3px 1px rgba(0, 0, 0, 0.15);\n",
              "      filter: drop-shadow(0px 1px 2px rgba(0, 0, 0, 0.3));\n",
              "      fill: #FFFFFF;\n",
              "    }\n",
              "  </style>\n",
              "\n",
              "      <script>\n",
              "        const buttonEl =\n",
              "          document.querySelector('#df-e020f727-cf70-4ef1-bec6-e2fd4f84d2b4 button.colab-df-convert');\n",
              "        buttonEl.style.display =\n",
              "          google.colab.kernel.accessAllowed ? 'block' : 'none';\n",
              "\n",
              "        async function convertToInteractive(key) {\n",
              "          const element = document.querySelector('#df-e020f727-cf70-4ef1-bec6-e2fd4f84d2b4');\n",
              "          const dataTable =\n",
              "            await google.colab.kernel.invokeFunction('convertToInteractive',\n",
              "                                                     [key], {});\n",
              "          if (!dataTable) return;\n",
              "\n",
              "          const docLinkHtml = 'Like what you see? Visit the ' +\n",
              "            '<a target=\"_blank\" href=https://colab.research.google.com/notebooks/data_table.ipynb>data table notebook</a>'\n",
              "            + ' to learn more about interactive tables.';\n",
              "          element.innerHTML = '';\n",
              "          dataTable['output_type'] = 'display_data';\n",
              "          await google.colab.output.renderOutput(dataTable, element);\n",
              "          const docLink = document.createElement('div');\n",
              "          docLink.innerHTML = docLinkHtml;\n",
              "          element.appendChild(docLink);\n",
              "        }\n",
              "      </script>\n",
              "    </div>\n",
              "  </div>\n",
              "  "
            ]
          },
          "metadata": {},
          "execution_count": 214
        }
      ],
      "source": [
        "train[[\"Embarked\", \"Survived\"]].groupby(['Embarked'], as_index=False).mean().sort_values(by='Survived', ascending=False)"
      ]
    },
    {
      "cell_type": "markdown",
      "source": [
        "3-2.觀察上船港口(Embarked)與船票等級(Pclass)的關係\n",
        "\n",
        "—在C港上船的乘客購買最高等級船票(Pclass=1)的比例較高，因此生存率較高\n",
        "\n",
        "—在S港上船的乘客購買最低等級船票(Pclass=3)的比例較高，因此生存率較低"
      ],
      "metadata": {
        "id": "g8Bzi_andsFa"
      }
    },
    {
      "cell_type": "code",
      "execution_count": null,
      "metadata": {
        "id": "2x5azEfdu2t0",
        "colab": {
          "base_uri": "https://localhost:8080/",
          "height": 386
        },
        "outputId": "770f1552-3a3d-4977-8c3e-14ad332860fb"
      },
      "outputs": [
        {
          "output_type": "execute_result",
          "data": {
            "text/plain": [
              "<seaborn.axisgrid.FacetGrid at 0x7f6511f58910>"
            ]
          },
          "metadata": {},
          "execution_count": 215
        },
        {
          "output_type": "display_data",
          "data": {
            "text/plain": [
              "<Figure size 1080x360 with 3 Axes>"
            ],
            "image/png": "[encoded data removed]"
          },
          "metadata": {
            "needs_background": "light"
          }
        }
      ],
      "source": [
        "sns.catplot(x='Pclass', col='Embarked', data=train,kind='count')"
      ]
    },
    {
      "cell_type": "markdown",
      "source": [
        "4-1.觀察與乘客同行的同輩(手足&配偶)數量(SibSp)與生存率(Survived)的關係—當與乘客同行的同輩數量為1人時，生存率最高(0.53)，其次為2人(0.46)、0人(0.34)"
      ],
      "metadata": {
        "id": "kEwv17S_d1wf"
      }
    },
    {
      "cell_type": "code",
      "execution_count": null,
      "metadata": {
        "id": "oGS0IMjCl9kY",
        "colab": {
          "base_uri": "https://localhost:8080/",
          "height": 269
        },
        "outputId": "9f22d1bb-523c-47ce-f752-ebe8f25cfc87"
      },
      "outputs": [
        {
          "output_type": "execute_result",
          "data": {
            "text/plain": [
              "   SibSp  Survived\n",
              "1      1  0.535885\n",
              "2      2  0.464286\n",
              "0      0  0.345395\n",
              "3      3  0.250000\n",
              "4      4  0.166667\n",
              "5      5  0.000000\n",
              "6      8  0.000000"
            ],
            "text/html": [
              "\n",
              "  <div id=\"df-99898a0d-7a04-49ba-9f0c-5bf42ed920f7\">\n",
              "    <div class=\"colab-df-container\">\n",
              "      <div>\n",
              "<style scoped>\n",
              "    .dataframe tbody tr th:only-of-type {\n",
              "        vertical-align: middle;\n",
              "    }\n",
              "\n",
              "    .dataframe tbody tr th {\n",
              "        vertical-align: top;\n",
              "    }\n",
              "\n",
              "    .dataframe thead th {\n",
              "        text-align: right;\n",
              "    }\n",
              "</style>\n",
              "<table border=\"1\" class=\"dataframe\">\n",
              "  <thead>\n",
              "    <tr style=\"text-align: right;\">\n",
              "      <th></th>\n",
              "      <th>SibSp</th>\n",
              "      <th>Survived</th>\n",
              "    </tr>\n",
              "  </thead>\n",
              "  <tbody>\n",
              "    <tr>\n",
              "      <th>1</th>\n",
              "      <td>1</td>\n",
              "      <td>0.535885</td>\n",
              "    </tr>\n",
              "    <tr>\n",
              "      <th>2</th>\n",
              "      <td>2</td>\n",
              "      <td>0.464286</td>\n",
              "    </tr>\n",
              "    <tr>\n",
              "      <th>0</th>\n",
              "      <td>0</td>\n",
              "      <td>0.345395</td>\n",
              "    </tr>\n",
              "    <tr>\n",
              "      <th>3</th>\n",
              "      <td>3</td>\n",
              "      <td>0.250000</td>\n",
              "    </tr>\n",
              "    <tr>\n",
              "      <th>4</th>\n",
              "      <td>4</td>\n",
              "      <td>0.166667</td>\n",
              "    </tr>\n",
              "    <tr>\n",
              "      <th>5</th>\n",
              "      <td>5</td>\n",
              "      <td>0.000000</td>\n",
              "    </tr>\n",
              "    <tr>\n",
              "      <th>6</th>\n",
              "      <td>8</td>\n",
              "      <td>0.000000</td>\n",
              "    </tr>\n",
              "  </tbody>\n",
              "</table>\n",
              "</div>\n",
              "      <button class=\"colab-df-convert\" onclick=\"convertToInteractive('df-99898a0d-7a04-49ba-9f0c-5bf42ed920f7')\"\n",
              "              title=\"Convert this dataframe to an interactive table.\"\n",
              "              style=\"display:none;\">\n",
              "        \n",
              "  <svg xmlns=\"http://www.w3.org/2000/svg\" height=\"24px\"viewBox=\"0 0 24 24\"\n",
              "       width=\"24px\">\n",
              "    <path d=\"M0 0h24v24H0V0z\" fill=\"none\"/>\n",
              "    <path d=\"M18.56 5.44l.94 2.06.94-2.06 2.06-.94-2.06-.94-.94-2.06-.94 2.06-2.06.94zm-11 1L8.5 8.5l.94-2.06 2.06-.94-2.06-.94L8.5 2.5l-.94 2.06-2.06.94zm10 10l.94 2.06.94-2.06 2.06-.94-2.06-.94-.94-2.06-.94 2.06-2.06.94z\"/><path d=\"M17.41 7.96l-1.37-1.37c-.4-.4-.92-.59-1.43-.59-.52 0-1.04.2-1.43.59L10.3 9.45l-7.72 7.72c-.78.78-.78 2.05 0 2.83L4 21.41c.39.39.9.59 1.41.59.51 0 1.02-.2 1.41-.59l7.78-7.78 2.81-2.81c.8-.78.8-2.07 0-2.86zM5.41 20L4 18.59l7.72-7.72 1.47 1.35L5.41 20z\"/>\n",
              "  </svg>\n",
              "      </button>\n",
              "      \n",
              "  <style>\n",
              "    .colab-df-container {\n",
              "      display:flex;\n",
              "      flex-wrap:wrap;\n",
              "      gap: 12px;\n",
              "    }\n",
              "\n",
              "    .colab-df-convert {\n",
              "      background-color: #E8F0FE;\n",
              "      border: none;\n",
              "      border-radius: 50%;\n",
              "      cursor: pointer;\n",
              "      display: none;\n",
              "      fill: #1967D2;\n",
              "      height: 32px;\n",
              "      padding: 0 0 0 0;\n",
              "      width: 32px;\n",
              "    }\n",
              "\n",
              "    .colab-df-convert:hover {\n",
              "      background-color: #E2EBFA;\n",
              "      box-shadow: 0px 1px 2px rgba(60, 64, 67, 0.3), 0px 1px 3px 1px rgba(60, 64, 67, 0.15);\n",
              "      fill: #174EA6;\n",
              "    }\n",
              "\n",
              "    [theme=dark] .colab-df-convert {\n",
              "      background-color: #3B4455;\n",
              "      fill: #D2E3FC;\n",
              "    }\n",
              "\n",
              "    [theme=dark] .colab-df-convert:hover {\n",
              "      background-color: #434B5C;\n",
              "      box-shadow: 0px 1px 3px 1px rgba(0, 0, 0, 0.15);\n",
              "      filter: drop-shadow(0px 1px 2px rgba(0, 0, 0, 0.3));\n",
              "      fill: #FFFFFF;\n",
              "    }\n",
              "  </style>\n",
              "\n",
              "      <script>\n",
              "        const buttonEl =\n",
              "          document.querySelector('#df-99898a0d-7a04-49ba-9f0c-5bf42ed920f7 button.colab-df-convert');\n",
              "        buttonEl.style.display =\n",
              "          google.colab.kernel.accessAllowed ? 'block' : 'none';\n",
              "\n",
              "        async function convertToInteractive(key) {\n",
              "          const element = document.querySelector('#df-99898a0d-7a04-49ba-9f0c-5bf42ed920f7');\n",
              "          const dataTable =\n",
              "            await google.colab.kernel.invokeFunction('convertToInteractive',\n",
              "                                                     [key], {});\n",
              "          if (!dataTable) return;\n",
              "\n",
              "          const docLinkHtml = 'Like what you see? Visit the ' +\n",
              "            '<a target=\"_blank\" href=https://colab.research.google.com/notebooks/data_table.ipynb>data table notebook</a>'\n",
              "            + ' to learn more about interactive tables.';\n",
              "          element.innerHTML = '';\n",
              "          dataTable['output_type'] = 'display_data';\n",
              "          await google.colab.output.renderOutput(dataTable, element);\n",
              "          const docLink = document.createElement('div');\n",
              "          docLink.innerHTML = docLinkHtml;\n",
              "          element.appendChild(docLink);\n",
              "        }\n",
              "      </script>\n",
              "    </div>\n",
              "  </div>\n",
              "  "
            ]
          },
          "metadata": {},
          "execution_count": 216
        }
      ],
      "source": [
        "train[[\"SibSp\", \"Survived\"]].groupby(['SibSp'], as_index=False).mean().sort_values(by='Survived', ascending=False)"
      ]
    },
    {
      "cell_type": "markdown",
      "source": [
        "4-2.觀察與乘客同行的同輩(手足&配偶)數量(SibSp)與生存率(Survived)的關係—當與乘客同行的同輩數量為1人時，生存率最高(0.53)，其次為2人(0.46)、0人(0.34)\n",
        "\n",
        "資料視覺化，使用Seaborn繪製條形圖"
      ],
      "metadata": {
        "id": "lyNWHygzd89e"
      }
    },
    {
      "cell_type": "code",
      "execution_count": null,
      "metadata": {
        "id": "Na-xCNAPl8s0",
        "colab": {
          "base_uri": "https://localhost:8080/",
          "height": 296
        },
        "outputId": "a1db6d0e-3504-49ba-9920-8cee2467ee2c"
      },
      "outputs": [
        {
          "output_type": "execute_result",
          "data": {
            "text/plain": [
              "<matplotlib.axes._subplots.AxesSubplot at 0x7f650edc9110>"
            ]
          },
          "metadata": {},
          "execution_count": 217
        },
        {
          "output_type": "display_data",
          "data": {
            "text/plain": [
              "<Figure size 432x288 with 1 Axes>"
            ],
            "image/png": "[encoded data removed]"
          },
          "metadata": {
            "needs_background": "light"
          }
        }
      ],
      "source": [
        "sns.barplot(x='SibSp', y='Survived', data=train)                 "
      ]
    },
    {
      "cell_type": "markdown",
      "source": [
        "5-1.觀察與乘客同行的父母&子女數量(Parch)與生存率(Survived)的關係—當與乘客同行的父母&子女數量為3人時，生存率最高(0.60)，其次為1人(0.55)、2人(0.50)\n",
        "\n"
      ],
      "metadata": {
        "id": "sF__mMEGeGn_"
      }
    },
    {
      "cell_type": "code",
      "execution_count": null,
      "metadata": {
        "id": "ouGAIwM9q7Tv",
        "colab": {
          "base_uri": "https://localhost:8080/",
          "height": 269
        },
        "outputId": "a5df82ac-bb37-4db1-b7b7-4090803b98dc"
      },
      "outputs": [
        {
          "output_type": "execute_result",
          "data": {
            "text/plain": [
              "   Parch  Survived\n",
              "3      3  0.600000\n",
              "1      1  0.550847\n",
              "2      2  0.500000\n",
              "0      0  0.343658\n",
              "5      5  0.200000\n",
              "4      4  0.000000\n",
              "6      6  0.000000"
            ],
            "text/html": [
              "\n",
              "  <div id=\"df-1973d968-8b92-48bc-9e67-13d28be64842\">\n",
              "    <div class=\"colab-df-container\">\n",
              "      <div>\n",
              "<style scoped>\n",
              "    .dataframe tbody tr th:only-of-type {\n",
              "        vertical-align: middle;\n",
              "    }\n",
              "\n",
              "    .dataframe tbody tr th {\n",
              "        vertical-align: top;\n",
              "    }\n",
              "\n",
              "    .dataframe thead th {\n",
              "        text-align: right;\n",
              "    }\n",
              "</style>\n",
              "<table border=\"1\" class=\"dataframe\">\n",
              "  <thead>\n",
              "    <tr style=\"text-align: right;\">\n",
              "      <th></th>\n",
              "      <th>Parch</th>\n",
              "      <th>Survived</th>\n",
              "    </tr>\n",
              "  </thead>\n",
              "  <tbody>\n",
              "    <tr>\n",
              "      <th>3</th>\n",
              "      <td>3</td>\n",
              "      <td>0.600000</td>\n",
              "    </tr>\n",
              "    <tr>\n",
              "      <th>1</th>\n",
              "      <td>1</td>\n",
              "      <td>0.550847</td>\n",
              "    </tr>\n",
              "    <tr>\n",
              "      <th>2</th>\n",
              "      <td>2</td>\n",
              "      <td>0.500000</td>\n",
              "    </tr>\n",
              "    <tr>\n",
              "      <th>0</th>\n",
              "      <td>0</td>\n",
              "      <td>0.343658</td>\n",
              "    </tr>\n",
              "    <tr>\n",
              "      <th>5</th>\n",
              "      <td>5</td>\n",
              "      <td>0.200000</td>\n",
              "    </tr>\n",
              "    <tr>\n",
              "      <th>4</th>\n",
              "      <td>4</td>\n",
              "      <td>0.000000</td>\n",
              "    </tr>\n",
              "    <tr>\n",
              "      <th>6</th>\n",
              "      <td>6</td>\n",
              "      <td>0.000000</td>\n",
              "    </tr>\n",
              "  </tbody>\n",
              "</table>\n",
              "</div>\n",
              "      <button class=\"colab-df-convert\" onclick=\"convertToInteractive('df-1973d968-8b92-48bc-9e67-13d28be64842')\"\n",
              "              title=\"Convert this dataframe to an interactive table.\"\n",
              "              style=\"display:none;\">\n",
              "        \n",
              "  <svg xmlns=\"http://www.w3.org/2000/svg\" height=\"24px\"viewBox=\"0 0 24 24\"\n",
              "       width=\"24px\">\n",
              "    <path d=\"M0 0h24v24H0V0z\" fill=\"none\"/>\n",
              "    <path d=\"M18.56 5.44l.94 2.06.94-2.06 2.06-.94-2.06-.94-.94-2.06-.94 2.06-2.06.94zm-11 1L8.5 8.5l.94-2.06 2.06-.94-2.06-.94L8.5 2.5l-.94 2.06-2.06.94zm10 10l.94 2.06.94-2.06 2.06-.94-2.06-.94-.94-2.06-.94 2.06-2.06.94z\"/><path d=\"M17.41 7.96l-1.37-1.37c-.4-.4-.92-.59-1.43-.59-.52 0-1.04.2-1.43.59L10.3 9.45l-7.72 7.72c-.78.78-.78 2.05 0 2.83L4 21.41c.39.39.9.59 1.41.59.51 0 1.02-.2 1.41-.59l7.78-7.78 2.81-2.81c.8-.78.8-2.07 0-2.86zM5.41 20L4 18.59l7.72-7.72 1.47 1.35L5.41 20z\"/>\n",
              "  </svg>\n",
              "      </button>\n",
              "      \n",
              "  <style>\n",
              "    .colab-df-container {\n",
              "      display:flex;\n",
              "      flex-wrap:wrap;\n",
              "      gap: 12px;\n",
              "    }\n",
              "\n",
              "    .colab-df-convert {\n",
              "      background-color: #E8F0FE;\n",
              "      border: none;\n",
              "      border-radius: 50%;\n",
              "      cursor: pointer;\n",
              "      display: none;\n",
              "      fill: #1967D2;\n",
              "      height: 32px;\n",
              "      padding: 0 0 0 0;\n",
              "      width: 32px;\n",
              "    }\n",
              "\n",
              "    .colab-df-convert:hover {\n",
              "      background-color: #E2EBFA;\n",
              "      box-shadow: 0px 1px 2px rgba(60, 64, 67, 0.3), 0px 1px 3px 1px rgba(60, 64, 67, 0.15);\n",
              "      fill: #174EA6;\n",
              "    }\n",
              "\n",
              "    [theme=dark] .colab-df-convert {\n",
              "      background-color: #3B4455;\n",
              "      fill: #D2E3FC;\n",
              "    }\n",
              "\n",
              "    [theme=dark] .colab-df-convert:hover {\n",
              "      background-color: #434B5C;\n",
              "      box-shadow: 0px 1px 3px 1px rgba(0, 0, 0, 0.15);\n",
              "      filter: drop-shadow(0px 1px 2px rgba(0, 0, 0, 0.3));\n",
              "      fill: #FFFFFF;\n",
              "    }\n",
              "  </style>\n",
              "\n",
              "      <script>\n",
              "        const buttonEl =\n",
              "          document.querySelector('#df-1973d968-8b92-48bc-9e67-13d28be64842 button.colab-df-convert');\n",
              "        buttonEl.style.display =\n",
              "          google.colab.kernel.accessAllowed ? 'block' : 'none';\n",
              "\n",
              "        async function convertToInteractive(key) {\n",
              "          const element = document.querySelector('#df-1973d968-8b92-48bc-9e67-13d28be64842');\n",
              "          const dataTable =\n",
              "            await google.colab.kernel.invokeFunction('convertToInteractive',\n",
              "                                                     [key], {});\n",
              "          if (!dataTable) return;\n",
              "\n",
              "          const docLinkHtml = 'Like what you see? Visit the ' +\n",
              "            '<a target=\"_blank\" href=https://colab.research.google.com/notebooks/data_table.ipynb>data table notebook</a>'\n",
              "            + ' to learn more about interactive tables.';\n",
              "          element.innerHTML = '';\n",
              "          dataTable['output_type'] = 'display_data';\n",
              "          await google.colab.output.renderOutput(dataTable, element);\n",
              "          const docLink = document.createElement('div');\n",
              "          docLink.innerHTML = docLinkHtml;\n",
              "          element.appendChild(docLink);\n",
              "        }\n",
              "      </script>\n",
              "    </div>\n",
              "  </div>\n",
              "  "
            ]
          },
          "metadata": {},
          "execution_count": 218
        }
      ],
      "source": [
        "train[[\"Parch\", \"Survived\"]].groupby(['Parch'], as_index=False).mean().sort_values(by='Survived', ascending=False)"
      ]
    },
    {
      "cell_type": "markdown",
      "source": [
        "5-2.觀察與乘客同行的父母&子女數量(Parch)與生存率(Survived)的關係—當與乘客同行的父母&子女數量為3人時，生存率最高(0.60)，其次為1人(0.55)、2人(0.50)\n",
        "\n",
        "資料視覺化，使用Seaborn繪製條形圖"
      ],
      "metadata": {
        "id": "vZjae4MfeON7"
      }
    },
    {
      "cell_type": "code",
      "execution_count": null,
      "metadata": {
        "id": "iK1zfFifq76_",
        "colab": {
          "base_uri": "https://localhost:8080/",
          "height": 296
        },
        "outputId": "2a35bbe1-531e-4792-8fd5-76a9c78227c6"
      },
      "outputs": [
        {
          "output_type": "execute_result",
          "data": {
            "text/plain": [
              "<matplotlib.axes._subplots.AxesSubplot at 0x7f650ed69810>"
            ]
          },
          "metadata": {},
          "execution_count": 219
        },
        {
          "output_type": "display_data",
          "data": {
            "text/plain": [
              "<Figure size 432x288 with 1 Axes>"
            ],
            "image/png": "[encoded data removed]"
          },
          "metadata": {
            "needs_background": "light"
          }
        }
      ],
      "source": [
        "sns.barplot(x='Parch', y='Survived', data=train)                 "
      ]
    },
    {
      "cell_type": "markdown",
      "source": [
        "6-1.觀察家庭人數(Family=Parch+SibSp)與生存率(Survived)的關係—當家庭人數為4人時，生存率最高(0.72)，其次為3人(0.57)、2人(0.55)"
      ],
      "metadata": {
        "id": "nbRASJAQeXcP"
      }
    },
    {
      "cell_type": "code",
      "execution_count": null,
      "metadata": {
        "id": "IDu0od325dfT",
        "colab": {
          "base_uri": "https://localhost:8080/",
          "height": 331
        },
        "outputId": "8754f9cb-624f-46b5-f013-185f206867fa"
      },
      "outputs": [
        {
          "output_type": "execute_result",
          "data": {
            "text/plain": [
              "   Family  Survived\n",
              "3       4  0.724138\n",
              "2       3  0.578431\n",
              "1       2  0.552795\n",
              "6       7  0.333333\n",
              "0       1  0.303538\n",
              "4       5  0.200000\n",
              "5       6  0.136364\n",
              "7       8  0.000000\n",
              "8      11  0.000000"
            ],
            "text/html": [
              "\n",
              "  <div id=\"df-6df2b959-9282-4394-909a-239bda9121e6\">\n",
              "    <div class=\"colab-df-container\">\n",
              "      <div>\n",
              "<style scoped>\n",
              "    .dataframe tbody tr th:only-of-type {\n",
              "        vertical-align: middle;\n",
              "    }\n",
              "\n",
              "    .dataframe tbody tr th {\n",
              "        vertical-align: top;\n",
              "    }\n",
              "\n",
              "    .dataframe thead th {\n",
              "        text-align: right;\n",
              "    }\n",
              "</style>\n",
              "<table border=\"1\" class=\"dataframe\">\n",
              "  <thead>\n",
              "    <tr style=\"text-align: right;\">\n",
              "      <th></th>\n",
              "      <th>Family</th>\n",
              "      <th>Survived</th>\n",
              "    </tr>\n",
              "  </thead>\n",
              "  <tbody>\n",
              "    <tr>\n",
              "      <th>3</th>\n",
              "      <td>4</td>\n",
              "      <td>0.724138</td>\n",
              "    </tr>\n",
              "    <tr>\n",
              "      <th>2</th>\n",
              "      <td>3</td>\n",
              "      <td>0.578431</td>\n",
              "    </tr>\n",
              "    <tr>\n",
              "      <th>1</th>\n",
              "      <td>2</td>\n",
              "      <td>0.552795</td>\n",
              "    </tr>\n",
              "    <tr>\n",
              "      <th>6</th>\n",
              "      <td>7</td>\n",
              "      <td>0.333333</td>\n",
              "    </tr>\n",
              "    <tr>\n",
              "      <th>0</th>\n",
              "      <td>1</td>\n",
              "      <td>0.303538</td>\n",
              "    </tr>\n",
              "    <tr>\n",
              "      <th>4</th>\n",
              "      <td>5</td>\n",
              "      <td>0.200000</td>\n",
              "    </tr>\n",
              "    <tr>\n",
              "      <th>5</th>\n",
              "      <td>6</td>\n",
              "      <td>0.136364</td>\n",
              "    </tr>\n",
              "    <tr>\n",
              "      <th>7</th>\n",
              "      <td>8</td>\n",
              "      <td>0.000000</td>\n",
              "    </tr>\n",
              "    <tr>\n",
              "      <th>8</th>\n",
              "      <td>11</td>\n",
              "      <td>0.000000</td>\n",
              "    </tr>\n",
              "  </tbody>\n",
              "</table>\n",
              "</div>\n",
              "      <button class=\"colab-df-convert\" onclick=\"convertToInteractive('df-6df2b959-9282-4394-909a-239bda9121e6')\"\n",
              "              title=\"Convert this dataframe to an interactive table.\"\n",
              "              style=\"display:none;\">\n",
              "        \n",
              "  <svg xmlns=\"http://www.w3.org/2000/svg\" height=\"24px\"viewBox=\"0 0 24 24\"\n",
              "       width=\"24px\">\n",
              "    <path d=\"M0 0h24v24H0V0z\" fill=\"none\"/>\n",
              "    <path d=\"M18.56 5.44l.94 2.06.94-2.06 2.06-.94-2.06-.94-.94-2.06-.94 2.06-2.06.94zm-11 1L8.5 8.5l.94-2.06 2.06-.94-2.06-.94L8.5 2.5l-.94 2.06-2.06.94zm10 10l.94 2.06.94-2.06 2.06-.94-2.06-.94-.94-2.06-.94 2.06-2.06.94z\"/><path d=\"M17.41 7.96l-1.37-1.37c-.4-.4-.92-.59-1.43-.59-.52 0-1.04.2-1.43.59L10.3 9.45l-7.72 7.72c-.78.78-.78 2.05 0 2.83L4 21.41c.39.39.9.59 1.41.59.51 0 1.02-.2 1.41-.59l7.78-7.78 2.81-2.81c.8-.78.8-2.07 0-2.86zM5.41 20L4 18.59l7.72-7.72 1.47 1.35L5.41 20z\"/>\n",
              "  </svg>\n",
              "      </button>\n",
              "      \n",
              "  <style>\n",
              "    .colab-df-container {\n",
              "      display:flex;\n",
              "      flex-wrap:wrap;\n",
              "      gap: 12px;\n",
              "    }\n",
              "\n",
              "    .colab-df-convert {\n",
              "      background-color: #E8F0FE;\n",
              "      border: none;\n",
              "      border-radius: 50%;\n",
              "      cursor: pointer;\n",
              "      display: none;\n",
              "      fill: #1967D2;\n",
              "      height: 32px;\n",
              "      padding: 0 0 0 0;\n",
              "      width: 32px;\n",
              "    }\n",
              "\n",
              "    .colab-df-convert:hover {\n",
              "      background-color: #E2EBFA;\n",
              "      box-shadow: 0px 1px 2px rgba(60, 64, 67, 0.3), 0px 1px 3px 1px rgba(60, 64, 67, 0.15);\n",
              "      fill: #174EA6;\n",
              "    }\n",
              "\n",
              "    [theme=dark] .colab-df-convert {\n",
              "      background-color: #3B4455;\n",
              "      fill: #D2E3FC;\n",
              "    }\n",
              "\n",
              "    [theme=dark] .colab-df-convert:hover {\n",
              "      background-color: #434B5C;\n",
              "      box-shadow: 0px 1px 3px 1px rgba(0, 0, 0, 0.15);\n",
              "      filter: drop-shadow(0px 1px 2px rgba(0, 0, 0, 0.3));\n",
              "      fill: #FFFFFF;\n",
              "    }\n",
              "  </style>\n",
              "\n",
              "      <script>\n",
              "        const buttonEl =\n",
              "          document.querySelector('#df-6df2b959-9282-4394-909a-239bda9121e6 button.colab-df-convert');\n",
              "        buttonEl.style.display =\n",
              "          google.colab.kernel.accessAllowed ? 'block' : 'none';\n",
              "\n",
              "        async function convertToInteractive(key) {\n",
              "          const element = document.querySelector('#df-6df2b959-9282-4394-909a-239bda9121e6');\n",
              "          const dataTable =\n",
              "            await google.colab.kernel.invokeFunction('convertToInteractive',\n",
              "                                                     [key], {});\n",
              "          if (!dataTable) return;\n",
              "\n",
              "          const docLinkHtml = 'Like what you see? Visit the ' +\n",
              "            '<a target=\"_blank\" href=https://colab.research.google.com/notebooks/data_table.ipynb>data table notebook</a>'\n",
              "            + ' to learn more about interactive tables.';\n",
              "          element.innerHTML = '';\n",
              "          dataTable['output_type'] = 'display_data';\n",
              "          await google.colab.output.renderOutput(dataTable, element);\n",
              "          const docLink = document.createElement('div');\n",
              "          docLink.innerHTML = docLinkHtml;\n",
              "          element.appendChild(docLink);\n",
              "        }\n",
              "      </script>\n",
              "    </div>\n",
              "  </div>\n",
              "  "
            ]
          },
          "metadata": {},
          "execution_count": 220
        }
      ],
      "source": [
        "train['Family']=train['Parch']+train['SibSp']+1\n",
        "train[['Family', 'Survived']].groupby(['Family'], as_index=False).mean().sort_values(by='Survived', ascending=False)"
      ]
    },
    {
      "cell_type": "markdown",
      "source": [
        "6-2.觀察家庭人數(Family=Parch+SibSp)與生存率(Survived)的關係—當家庭人數為4人時，生存率最高(0.72)，其次為3人(0.57)、2人(0.55)\n",
        "\n",
        "資料視覺化，使用Seaborn繪製條形圖"
      ],
      "metadata": {
        "id": "qp6uy64Yec-N"
      }
    },
    {
      "cell_type": "code",
      "execution_count": null,
      "metadata": {
        "id": "BfIbcWHm6YqB",
        "colab": {
          "base_uri": "https://localhost:8080/",
          "height": 296
        },
        "outputId": "daff9ffd-6ef5-456d-b9e9-b71db6736f21"
      },
      "outputs": [
        {
          "output_type": "execute_result",
          "data": {
            "text/plain": [
              "<matplotlib.axes._subplots.AxesSubplot at 0x7f650ecef6d0>"
            ]
          },
          "metadata": {},
          "execution_count": 221
        },
        {
          "output_type": "display_data",
          "data": {
            "text/plain": [
              "<Figure size 432x288 with 1 Axes>"
            ],
            "image/png": "[encoded data removed]"
          },
          "metadata": {
            "needs_background": "light"
          }
        }
      ],
      "source": [
        "sns.barplot(data=train,x='Family',y='Survived')               "
      ]
    },
    {
      "cell_type": "markdown",
      "source": [
        "7.觀察年齡(Age)與生存率(Survived)的關係—年齡小的乘客生存率較高"
      ],
      "metadata": {
        "id": "0o2CE2hcelO1"
      }
    },
    {
      "cell_type": "code",
      "execution_count": null,
      "metadata": {
        "id": "EH8uZ3c7Cw0e",
        "colab": {
          "base_uri": "https://localhost:8080/",
          "height": 242
        },
        "outputId": "dd3432c3-6b4c-4c59-c3e3-f774aafa15fd"
      },
      "outputs": [
        {
          "output_type": "execute_result",
          "data": {
            "text/plain": [
              "<seaborn.axisgrid.FacetGrid at 0x7f650ec18610>"
            ]
          },
          "metadata": {},
          "execution_count": 222
        },
        {
          "output_type": "display_data",
          "data": {
            "text/plain": [
              "<Figure size 432x216 with 2 Axes>"
            ],
            "image/png": "[encoded data removed]"
          },
          "metadata": {
            "needs_background": "light"
          }
        }
      ],
      "source": [
        "g = sns.FacetGrid(train, col='Survived')\n",
        "g.map(plt.hist, 'Age')"
      ]
    },
    {
      "cell_type": "markdown",
      "source": [
        "7.觀察票價(Fare)與生存率(Survived)的關係—票價高時生存率較高"
      ],
      "metadata": {
        "id": "BJj4gULlmHib"
      }
    },
    {
      "cell_type": "code",
      "source": [
        "g =sns.FacetGrid(train,hue='Survived')\n",
        "g.map(sns.kdeplot,'Fare',shade=True)\n",
        "g.set(xlim=(0,150))\n",
        "g.add_legend()"
      ],
      "metadata": {
        "colab": {
          "base_uri": "https://localhost:8080/",
          "height": 242
        },
        "id": "Snh6gXXA5s1d",
        "outputId": "06f6f5ea-f3a5-4753-f691-4e37179933de"
      },
      "execution_count": null,
      "outputs": [
        {
          "output_type": "execute_result",
          "data": {
            "text/plain": [
              "<seaborn.axisgrid.FacetGrid at 0x7f650eb3fe50>"
            ]
          },
          "metadata": {},
          "execution_count": 223
        },
        {
          "output_type": "display_data",
          "data": {
            "text/plain": [
              "<Figure size 267.875x216 with 1 Axes>"
            ],
            "image/png": "[encoded data removed]"
          },
          "metadata": {
            "needs_background": "light"
          }
        }
      ]
    },
    {
      "cell_type": "markdown",
      "metadata": {
        "id": "-2UY2rysrpXr"
      },
      "source": [
        "### 載入資料前處理所需的module"
      ]
    },
    {
      "cell_type": "markdown",
      "source": [
        "將非數值的資料轉換成數值"
      ],
      "metadata": {
        "id": "NmpKtfQpfS3Y"
      }
    },
    {
      "cell_type": "code",
      "execution_count": null,
      "metadata": {
        "id": "C9vW7S6IrpXs"
      },
      "outputs": [],
      "source": [
        "from sklearn import preprocessing"
      ]
    },
    {
      "cell_type": "markdown",
      "metadata": {
        "id": "RUk0elAPrpXs"
      },
      "source": [
        "### 資料前處理"
      ]
    },
    {
      "cell_type": "markdown",
      "source": [
        "計算缺失值(missingvalues)的數量"
      ],
      "metadata": {
        "id": "_y5hv8XufXse"
      }
    },
    {
      "cell_type": "code",
      "execution_count": null,
      "metadata": {
        "id": "JCfGQbm9vJst",
        "outputId": "2b36a4d7-e34c-4e15-9bd1-fac9f470f3ee",
        "colab": {
          "base_uri": "https://localhost:8080/"
        }
      },
      "outputs": [
        {
          "output_type": "stream",
          "name": "stdout",
          "text": [
            "train :\n",
            "Survived      0\n",
            "Pclass        0\n",
            "Sex           0\n",
            "Age         177\n",
            "SibSp         0\n",
            "Parch         0\n",
            "Fare          0\n",
            "Cabin       687\n",
            "Embarked      2\n",
            "Family        0\n",
            "dtype: int64\n",
            "\n",
            "test :\n",
            "Pclass        0\n",
            "Sex           0\n",
            "Age          86\n",
            "SibSp         0\n",
            "Parch         0\n",
            "Fare          1\n",
            "Cabin       327\n",
            "Embarked      0\n",
            "dtype: int64\n"
          ]
        }
      ],
      "source": [
        "print('train :', end = \"\\n\")\n",
        "print(train.isnull().sum())\n",
        "print()\n",
        "print('test :', end = \"\\n\")\n",
        "print(test.isnull().sum())"
      ]
    },
    {
      "cell_type": "markdown",
      "source": [
        "將非數值的資料數值化以便後續查看關聯度"
      ],
      "metadata": {
        "id": "0YLaGc0LfdpX"
      }
    },
    {
      "cell_type": "code",
      "execution_count": null,
      "metadata": {
        "id": "QbPWsW0LrpXt"
      },
      "outputs": [],
      "source": [
        "le = preprocessing.LabelEncoder()\n",
        "train_le = train.copy()\n",
        "\n",
        "non_numeric_cols = [\"Sex\", \"Cabin\", \"Embarked\"]\n",
        "for col in non_numeric_cols:\n",
        "    train_le[col] = le.fit_transform(train[col])"
      ]
    },
    {
      "cell_type": "code",
      "execution_count": null,
      "metadata": {
        "id": "ffoa0hCIrpXu",
        "outputId": "77edae01-2901-43f9-b26b-a1fe629f1687",
        "colab": {
          "base_uri": "https://localhost:8080/",
          "height": 206
        }
      },
      "outputs": [
        {
          "output_type": "execute_result",
          "data": {
            "text/plain": [
              "   Survived  Pclass  Sex   Age  SibSp  Parch     Fare  Cabin  Embarked  Family\n",
              "0         0       3    1  22.0      1      0   7.2500    147         2       2\n",
              "1         1       1    0  38.0      1      0  71.2833     81         0       2\n",
              "2         1       3    0  26.0      0      0   7.9250    147         2       1\n",
              "3         1       1    0  35.0      1      0  53.1000     55         2       2\n",
              "4         0       3    1  35.0      0      0   8.0500    147         2       1"
            ],
            "text/html": [
              "\n",
              "  <div id=\"df-0c96e2fb-afd6-4bdb-9155-b9402e16a724\">\n",
              "    <div class=\"colab-df-container\">\n",
              "      <div>\n",
              "<style scoped>\n",
              "    .dataframe tbody tr th:only-of-type {\n",
              "        vertical-align: middle;\n",
              "    }\n",
              "\n",
              "    .dataframe tbody tr th {\n",
              "        vertical-align: top;\n",
              "    }\n",
              "\n",
              "    .dataframe thead th {\n",
              "        text-align: right;\n",
              "    }\n",
              "</style>\n",
              "<table border=\"1\" class=\"dataframe\">\n",
              "  <thead>\n",
              "    <tr style=\"text-align: right;\">\n",
              "      <th></th>\n",
              "      <th>Survived</th>\n",
              "      <th>Pclass</th>\n",
              "      <th>Sex</th>\n",
              "      <th>Age</th>\n",
              "      <th>SibSp</th>\n",
              "      <th>Parch</th>\n",
              "      <th>Fare</th>\n",
              "      <th>Cabin</th>\n",
              "      <th>Embarked</th>\n",
              "      <th>Family</th>\n",
              "    </tr>\n",
              "  </thead>\n",
              "  <tbody>\n",
              "    <tr>\n",
              "      <th>0</th>\n",
              "      <td>0</td>\n",
              "      <td>3</td>\n",
              "      <td>1</td>\n",
              "      <td>22.0</td>\n",
              "      <td>1</td>\n",
              "      <td>0</td>\n",
              "      <td>7.2500</td>\n",
              "      <td>147</td>\n",
              "      <td>2</td>\n",
              "      <td>2</td>\n",
              "    </tr>\n",
              "    <tr>\n",
              "      <th>1</th>\n",
              "      <td>1</td>\n",
              "      <td>1</td>\n",
              "      <td>0</td>\n",
              "      <td>38.0</td>\n",
              "      <td>1</td>\n",
              "      <td>0</td>\n",
              "      <td>71.2833</td>\n",
              "      <td>81</td>\n",
              "      <td>0</td>\n",
              "      <td>2</td>\n",
              "    </tr>\n",
              "    <tr>\n",
              "      <th>2</th>\n",
              "      <td>1</td>\n",
              "      <td>3</td>\n",
              "      <td>0</td>\n",
              "      <td>26.0</td>\n",
              "      <td>0</td>\n",
              "      <td>0</td>\n",
              "      <td>7.9250</td>\n",
              "      <td>147</td>\n",
              "      <td>2</td>\n",
              "      <td>1</td>\n",
              "    </tr>\n",
              "    <tr>\n",
              "      <th>3</th>\n",
              "      <td>1</td>\n",
              "      <td>1</td>\n",
              "      <td>0</td>\n",
              "      <td>35.0</td>\n",
              "      <td>1</td>\n",
              "      <td>0</td>\n",
              "      <td>53.1000</td>\n",
              "      <td>55</td>\n",
              "      <td>2</td>\n",
              "      <td>2</td>\n",
              "    </tr>\n",
              "    <tr>\n",
              "      <th>4</th>\n",
              "      <td>0</td>\n",
              "      <td>3</td>\n",
              "      <td>1</td>\n",
              "      <td>35.0</td>\n",
              "      <td>0</td>\n",
              "      <td>0</td>\n",
              "      <td>8.0500</td>\n",
              "      <td>147</td>\n",
              "      <td>2</td>\n",
              "      <td>1</td>\n",
              "    </tr>\n",
              "  </tbody>\n",
              "</table>\n",
              "</div>\n",
              "      <button class=\"colab-df-convert\" onclick=\"convertToInteractive('df-0c96e2fb-afd6-4bdb-9155-b9402e16a724')\"\n",
              "              title=\"Convert this dataframe to an interactive table.\"\n",
              "              style=\"display:none;\">\n",
              "        \n",
              "  <svg xmlns=\"http://www.w3.org/2000/svg\" height=\"24px\"viewBox=\"0 0 24 24\"\n",
              "       width=\"24px\">\n",
              "    <path d=\"M0 0h24v24H0V0z\" fill=\"none\"/>\n",
              "    <path d=\"M18.56 5.44l.94 2.06.94-2.06 2.06-.94-2.06-.94-.94-2.06-.94 2.06-2.06.94zm-11 1L8.5 8.5l.94-2.06 2.06-.94-2.06-.94L8.5 2.5l-.94 2.06-2.06.94zm10 10l.94 2.06.94-2.06 2.06-.94-2.06-.94-.94-2.06-.94 2.06-2.06.94z\"/><path d=\"M17.41 7.96l-1.37-1.37c-.4-.4-.92-.59-1.43-.59-.52 0-1.04.2-1.43.59L10.3 9.45l-7.72 7.72c-.78.78-.78 2.05 0 2.83L4 21.41c.39.39.9.59 1.41.59.51 0 1.02-.2 1.41-.59l7.78-7.78 2.81-2.81c.8-.78.8-2.07 0-2.86zM5.41 20L4 18.59l7.72-7.72 1.47 1.35L5.41 20z\"/>\n",
              "  </svg>\n",
              "      </button>\n",
              "      \n",
              "  <style>\n",
              "    .colab-df-container {\n",
              "      display:flex;\n",
              "      flex-wrap:wrap;\n",
              "      gap: 12px;\n",
              "    }\n",
              "\n",
              "    .colab-df-convert {\n",
              "      background-color: #E8F0FE;\n",
              "      border: none;\n",
              "      border-radius: 50%;\n",
              "      cursor: pointer;\n",
              "      display: none;\n",
              "      fill: #1967D2;\n",
              "      height: 32px;\n",
              "      padding: 0 0 0 0;\n",
              "      width: 32px;\n",
              "    }\n",
              "\n",
              "    .colab-df-convert:hover {\n",
              "      background-color: #E2EBFA;\n",
              "      box-shadow: 0px 1px 2px rgba(60, 64, 67, 0.3), 0px 1px 3px 1px rgba(60, 64, 67, 0.15);\n",
              "      fill: #174EA6;\n",
              "    }\n",
              "\n",
              "    [theme=dark] .colab-df-convert {\n",
              "      background-color: #3B4455;\n",
              "      fill: #D2E3FC;\n",
              "    }\n",
              "\n",
              "    [theme=dark] .colab-df-convert:hover {\n",
              "      background-color: #434B5C;\n",
              "      box-shadow: 0px 1px 3px 1px rgba(0, 0, 0, 0.15);\n",
              "      filter: drop-shadow(0px 1px 2px rgba(0, 0, 0, 0.3));\n",
              "      fill: #FFFFFF;\n",
              "    }\n",
              "  </style>\n",
              "\n",
              "      <script>\n",
              "        const buttonEl =\n",
              "          document.querySelector('#df-0c96e2fb-afd6-4bdb-9155-b9402e16a724 button.colab-df-convert');\n",
              "        buttonEl.style.display =\n",
              "          google.colab.kernel.accessAllowed ? 'block' : 'none';\n",
              "\n",
              "        async function convertToInteractive(key) {\n",
              "          const element = document.querySelector('#df-0c96e2fb-afd6-4bdb-9155-b9402e16a724');\n",
              "          const dataTable =\n",
              "            await google.colab.kernel.invokeFunction('convertToInteractive',\n",
              "                                                     [key], {});\n",
              "          if (!dataTable) return;\n",
              "\n",
              "          const docLinkHtml = 'Like what you see? Visit the ' +\n",
              "            '<a target=\"_blank\" href=https://colab.research.google.com/notebooks/data_table.ipynb>data table notebook</a>'\n",
              "            + ' to learn more about interactive tables.';\n",
              "          element.innerHTML = '';\n",
              "          dataTable['output_type'] = 'display_data';\n",
              "          await google.colab.output.renderOutput(dataTable, element);\n",
              "          const docLink = document.createElement('div');\n",
              "          docLink.innerHTML = docLinkHtml;\n",
              "          element.appendChild(docLink);\n",
              "        }\n",
              "      </script>\n",
              "    </div>\n",
              "  </div>\n",
              "  "
            ]
          },
          "metadata": {},
          "execution_count": 227
        }
      ],
      "source": [
        "train_le.head()"
      ]
    },
    {
      "cell_type": "markdown",
      "source": [
        "處理Embarked欄位中的缺失值\n",
        "\n",
        "觀察Embarked欄位中數值分布的情況，可以發現在S港上船的人數最多(可能性最大)，因此選擇使用S港來填補Embarked欄位中的缺失值"
      ],
      "metadata": {
        "id": "_1w7ESetftAJ"
      }
    },
    {
      "cell_type": "code",
      "execution_count": null,
      "metadata": {
        "id": "f3aJKz8Qjnee",
        "outputId": "647aba65-b0e9-47f2-b2dd-1df781008903",
        "colab": {
          "base_uri": "https://localhost:8080/"
        }
      },
      "outputs": [
        {
          "output_type": "execute_result",
          "data": {
            "text/plain": [
              "S    644\n",
              "C    168\n",
              "Q     77\n",
              "Name: Embarked, dtype: int64"
            ]
          },
          "metadata": {},
          "execution_count": 228
        }
      ],
      "source": [
        "train['Embarked'].value_counts()"
      ]
    },
    {
      "cell_type": "markdown",
      "source": [
        "處理Age欄位中的缺失值(1)\n",
        "\n",
        "觀察熱力圖可以發現:\n",
        "\n",
        "1. Pclass與Age/Survived的相關係數較大，因此選擇使用Pclass將乘客分組，並以每組的年齡平均值來填補Age欄位中的缺失值\n",
        "\n",
        "2. Fare與Cabin/Placss 的相關係數較大，因此選擇使用Pclass將乘客分組(cabin缺失值過多)，並以每組的年齡平均值來填補Fare欄位中的缺失值"
      ],
      "metadata": {
        "id": "-JFvHdhmfjj-"
      }
    },
    {
      "cell_type": "code",
      "execution_count": null,
      "metadata": {
        "id": "_6a5QrQ6q1-1",
        "outputId": "d9c9dd55-e43d-4722-c2e0-5eb122181207",
        "colab": {
          "base_uri": "https://localhost:8080/",
          "height": 310
        }
      },
      "outputs": [
        {
          "output_type": "display_data",
          "data": {
            "text/plain": [
              "<Figure size 432x288 with 2 Axes>"
            ],
            "image/png": "[encoded data removed]"
          },
          "metadata": {
            "needs_background": "light"
          }
        }
      ],
      "source": [
        "plt.figure()\n",
        "sns.heatmap(train_le.corr(),annot=True)\n",
        "plt.show()"
      ]
    },
    {
      "cell_type": "markdown",
      "source": [
        "處理Age欄位中的缺失值(2)\n",
        "\n",
        "2.觀察Age,Pclass與Sex的關係圖，可以發現隨著Pclass等級提升，男性和女性的年齡層都有提升的趨勢，而男性平均年齡相較於女性較高\n",
        "\n",
        "選擇使用Sex作為第二個分組的組別來填補Age欄位中的缺失值"
      ],
      "metadata": {
        "id": "fzoGb_jDfygT"
      }
    },
    {
      "cell_type": "code",
      "execution_count": null,
      "metadata": {
        "id": "C8vDc2iGgVHE",
        "outputId": "3045b9c1-2a87-4817-e53d-3f10f34ea5eb",
        "colab": {
          "base_uri": "https://localhost:8080/",
          "height": 674
        }
      },
      "outputs": [
        {
          "output_type": "execute_result",
          "data": {
            "text/plain": [
              "<seaborn.axisgrid.FacetGrid at 0x7f650eadadd0>"
            ]
          },
          "metadata": {},
          "execution_count": 230
        },
        {
          "output_type": "display_data",
          "data": {
            "text/plain": [
              "<Figure size 440x648 with 6 Axes>"
            ],
            "image/png": "[encoded data removed]"
          },
          "metadata": {
            "needs_background": "light"
          }
        }
      ],
      "source": [
        "grid = sns.FacetGrid(train, row='Pclass', col='Sex')\n",
        "grid.map(plt.hist, 'Age')\n",
        "grid.add_legend()"
      ]
    },
    {
      "cell_type": "code",
      "execution_count": null,
      "metadata": {
        "id": "NfoSxrynrpXv",
        "outputId": "1283e0ef-03bc-46f1-eb46-e8c93848d23f",
        "colab": {
          "base_uri": "https://localhost:8080/",
          "height": 423
        }
      },
      "outputs": [
        {
          "output_type": "execute_result",
          "data": {
            "text/plain": [
              "     Survived  Pclass     Sex   Age  SibSp  Parch     Fare Cabin Embarked  \\\n",
              "0           0       3    male  22.0      1      0   7.2500   NaN        S   \n",
              "1           1       1  female  38.0      1      0  71.2833   C85        C   \n",
              "2           1       3  female  26.0      0      0   7.9250   NaN        S   \n",
              "3           1       1  female  35.0      1      0  53.1000  C123        S   \n",
              "4           0       3    male  35.0      0      0   8.0500   NaN        S   \n",
              "..        ...     ...     ...   ...    ...    ...      ...   ...      ...   \n",
              "886         0       2    male  27.0      0      0  13.0000   NaN        S   \n",
              "887         1       1  female  19.0      0      0  30.0000   B42        S   \n",
              "888         0       3  female   NaN      1      2  23.4500   NaN        S   \n",
              "889         1       1    male  26.0      0      0  30.0000  C148        C   \n",
              "890         0       3    male  32.0      0      0   7.7500   NaN        Q   \n",
              "\n",
              "     Family  \n",
              "0         2  \n",
              "1         2  \n",
              "2         1  \n",
              "3         2  \n",
              "4         1  \n",
              "..      ...  \n",
              "886       1  \n",
              "887       1  \n",
              "888       4  \n",
              "889       1  \n",
              "890       1  \n",
              "\n",
              "[891 rows x 10 columns]"
            ],
            "text/html": [
              "\n",
              "  <div id=\"df-a6d13b0d-c392-46dc-8a13-8004153d7fca\">\n",
              "    <div class=\"colab-df-container\">\n",
              "      <div>\n",
              "<style scoped>\n",
              "    .dataframe tbody tr th:only-of-type {\n",
              "        vertical-align: middle;\n",
              "    }\n",
              "\n",
              "    .dataframe tbody tr th {\n",
              "        vertical-align: top;\n",
              "    }\n",
              "\n",
              "    .dataframe thead th {\n",
              "        text-align: right;\n",
              "    }\n",
              "</style>\n",
              "<table border=\"1\" class=\"dataframe\">\n",
              "  <thead>\n",
              "    <tr style=\"text-align: right;\">\n",
              "      <th></th>\n",
              "      <th>Survived</th>\n",
              "      <th>Pclass</th>\n",
              "      <th>Sex</th>\n",
              "      <th>Age</th>\n",
              "      <th>SibSp</th>\n",
              "      <th>Parch</th>\n",
              "      <th>Fare</th>\n",
              "      <th>Cabin</th>\n",
              "      <th>Embarked</th>\n",
              "      <th>Family</th>\n",
              "    </tr>\n",
              "  </thead>\n",
              "  <tbody>\n",
              "    <tr>\n",
              "      <th>0</th>\n",
              "      <td>0</td>\n",
              "      <td>3</td>\n",
              "      <td>male</td>\n",
              "      <td>22.0</td>\n",
              "      <td>1</td>\n",
              "      <td>0</td>\n",
              "      <td>7.2500</td>\n",
              "      <td>NaN</td>\n",
              "      <td>S</td>\n",
              "      <td>2</td>\n",
              "    </tr>\n",
              "    <tr>\n",
              "      <th>1</th>\n",
              "      <td>1</td>\n",
              "      <td>1</td>\n",
              "      <td>female</td>\n",
              "      <td>38.0</td>\n",
              "      <td>1</td>\n",
              "      <td>0</td>\n",
              "      <td>71.2833</td>\n",
              "      <td>C85</td>\n",
              "      <td>C</td>\n",
              "      <td>2</td>\n",
              "    </tr>\n",
              "    <tr>\n",
              "      <th>2</th>\n",
              "      <td>1</td>\n",
              "      <td>3</td>\n",
              "      <td>female</td>\n",
              "      <td>26.0</td>\n",
              "      <td>0</td>\n",
              "      <td>0</td>\n",
              "      <td>7.9250</td>\n",
              "      <td>NaN</td>\n",
              "      <td>S</td>\n",
              "      <td>1</td>\n",
              "    </tr>\n",
              "    <tr>\n",
              "      <th>3</th>\n",
              "      <td>1</td>\n",
              "      <td>1</td>\n",
              "      <td>female</td>\n",
              "      <td>35.0</td>\n",
              "      <td>1</td>\n",
              "      <td>0</td>\n",
              "      <td>53.1000</td>\n",
              "      <td>C123</td>\n",
              "      <td>S</td>\n",
              "      <td>2</td>\n",
              "    </tr>\n",
              "    <tr>\n",
              "      <th>4</th>\n",
              "      <td>0</td>\n",
              "      <td>3</td>\n",
              "      <td>male</td>\n",
              "      <td>35.0</td>\n",
              "      <td>0</td>\n",
              "      <td>0</td>\n",
              "      <td>8.0500</td>\n",
              "      <td>NaN</td>\n",
              "      <td>S</td>\n",
              "      <td>1</td>\n",
              "    </tr>\n",
              "    <tr>\n",
              "      <th>...</th>\n",
              "      <td>...</td>\n",
              "      <td>...</td>\n",
              "      <td>...</td>\n",
              "      <td>...</td>\n",
              "      <td>...</td>\n",
              "      <td>...</td>\n",
              "      <td>...</td>\n",
              "      <td>...</td>\n",
              "      <td>...</td>\n",
              "      <td>...</td>\n",
              "    </tr>\n",
              "    <tr>\n",
              "      <th>886</th>\n",
              "      <td>0</td>\n",
              "      <td>2</td>\n",
              "      <td>male</td>\n",
              "      <td>27.0</td>\n",
              "      <td>0</td>\n",
              "      <td>0</td>\n",
              "      <td>13.0000</td>\n",
              "      <td>NaN</td>\n",
              "      <td>S</td>\n",
              "      <td>1</td>\n",
              "    </tr>\n",
              "    <tr>\n",
              "      <th>887</th>\n",
              "      <td>1</td>\n",
              "      <td>1</td>\n",
              "      <td>female</td>\n",
              "      <td>19.0</td>\n",
              "      <td>0</td>\n",
              "      <td>0</td>\n",
              "      <td>30.0000</td>\n",
              "      <td>B42</td>\n",
              "      <td>S</td>\n",
              "      <td>1</td>\n",
              "    </tr>\n",
              "    <tr>\n",
              "      <th>888</th>\n",
              "      <td>0</td>\n",
              "      <td>3</td>\n",
              "      <td>female</td>\n",
              "      <td>NaN</td>\n",
              "      <td>1</td>\n",
              "      <td>2</td>\n",
              "      <td>23.4500</td>\n",
              "      <td>NaN</td>\n",
              "      <td>S</td>\n",
              "      <td>4</td>\n",
              "    </tr>\n",
              "    <tr>\n",
              "      <th>889</th>\n",
              "      <td>1</td>\n",
              "      <td>1</td>\n",
              "      <td>male</td>\n",
              "      <td>26.0</td>\n",
              "      <td>0</td>\n",
              "      <td>0</td>\n",
              "      <td>30.0000</td>\n",
              "      <td>C148</td>\n",
              "      <td>C</td>\n",
              "      <td>1</td>\n",
              "    </tr>\n",
              "    <tr>\n",
              "      <th>890</th>\n",
              "      <td>0</td>\n",
              "      <td>3</td>\n",
              "      <td>male</td>\n",
              "      <td>32.0</td>\n",
              "      <td>0</td>\n",
              "      <td>0</td>\n",
              "      <td>7.7500</td>\n",
              "      <td>NaN</td>\n",
              "      <td>Q</td>\n",
              "      <td>1</td>\n",
              "    </tr>\n",
              "  </tbody>\n",
              "</table>\n",
              "<p>891 rows × 10 columns</p>\n",
              "</div>\n",
              "      <button class=\"colab-df-convert\" onclick=\"convertToInteractive('df-a6d13b0d-c392-46dc-8a13-8004153d7fca')\"\n",
              "              title=\"Convert this dataframe to an interactive table.\"\n",
              "              style=\"display:none;\">\n",
              "        \n",
              "  <svg xmlns=\"http://www.w3.org/2000/svg\" height=\"24px\"viewBox=\"0 0 24 24\"\n",
              "       width=\"24px\">\n",
              "    <path d=\"M0 0h24v24H0V0z\" fill=\"none\"/>\n",
              "    <path d=\"M18.56 5.44l.94 2.06.94-2.06 2.06-.94-2.06-.94-.94-2.06-.94 2.06-2.06.94zm-11 1L8.5 8.5l.94-2.06 2.06-.94-2.06-.94L8.5 2.5l-.94 2.06-2.06.94zm10 10l.94 2.06.94-2.06 2.06-.94-2.06-.94-.94-2.06-.94 2.06-2.06.94z\"/><path d=\"M17.41 7.96l-1.37-1.37c-.4-.4-.92-.59-1.43-.59-.52 0-1.04.2-1.43.59L10.3 9.45l-7.72 7.72c-.78.78-.78 2.05 0 2.83L4 21.41c.39.39.9.59 1.41.59.51 0 1.02-.2 1.41-.59l7.78-7.78 2.81-2.81c.8-.78.8-2.07 0-2.86zM5.41 20L4 18.59l7.72-7.72 1.47 1.35L5.41 20z\"/>\n",
              "  </svg>\n",
              "      </button>\n",
              "      \n",
              "  <style>\n",
              "    .colab-df-container {\n",
              "      display:flex;\n",
              "      flex-wrap:wrap;\n",
              "      gap: 12px;\n",
              "    }\n",
              "\n",
              "    .colab-df-convert {\n",
              "      background-color: #E8F0FE;\n",
              "      border: none;\n",
              "      border-radius: 50%;\n",
              "      cursor: pointer;\n",
              "      display: none;\n",
              "      fill: #1967D2;\n",
              "      height: 32px;\n",
              "      padding: 0 0 0 0;\n",
              "      width: 32px;\n",
              "    }\n",
              "\n",
              "    .colab-df-convert:hover {\n",
              "      background-color: #E2EBFA;\n",
              "      box-shadow: 0px 1px 2px rgba(60, 64, 67, 0.3), 0px 1px 3px 1px rgba(60, 64, 67, 0.15);\n",
              "      fill: #174EA6;\n",
              "    }\n",
              "\n",
              "    [theme=dark] .colab-df-convert {\n",
              "      background-color: #3B4455;\n",
              "      fill: #D2E3FC;\n",
              "    }\n",
              "\n",
              "    [theme=dark] .colab-df-convert:hover {\n",
              "      background-color: #434B5C;\n",
              "      box-shadow: 0px 1px 3px 1px rgba(0, 0, 0, 0.15);\n",
              "      filter: drop-shadow(0px 1px 2px rgba(0, 0, 0, 0.3));\n",
              "      fill: #FFFFFF;\n",
              "    }\n",
              "  </style>\n",
              "\n",
              "      <script>\n",
              "        const buttonEl =\n",
              "          document.querySelector('#df-a6d13b0d-c392-46dc-8a13-8004153d7fca button.colab-df-convert');\n",
              "        buttonEl.style.display =\n",
              "          google.colab.kernel.accessAllowed ? 'block' : 'none';\n",
              "\n",
              "        async function convertToInteractive(key) {\n",
              "          const element = document.querySelector('#df-a6d13b0d-c392-46dc-8a13-8004153d7fca');\n",
              "          const dataTable =\n",
              "            await google.colab.kernel.invokeFunction('convertToInteractive',\n",
              "                                                     [key], {});\n",
              "          if (!dataTable) return;\n",
              "\n",
              "          const docLinkHtml = 'Like what you see? Visit the ' +\n",
              "            '<a target=\"_blank\" href=https://colab.research.google.com/notebooks/data_table.ipynb>data table notebook</a>'\n",
              "            + ' to learn more about interactive tables.';\n",
              "          element.innerHTML = '';\n",
              "          dataTable['output_type'] = 'display_data';\n",
              "          await google.colab.output.renderOutput(dataTable, element);\n",
              "          const docLink = document.createElement('div');\n",
              "          docLink.innerHTML = docLinkHtml;\n",
              "          element.appendChild(docLink);\n",
              "        }\n",
              "      </script>\n",
              "    </div>\n",
              "  </div>\n",
              "  "
            ]
          },
          "metadata": {},
          "execution_count": 231
        }
      ],
      "source": [
        "train"
      ]
    },
    {
      "cell_type": "markdown",
      "source": [
        "清潔資料:\n",
        "\n",
        "1.Cabin 缺失值過多，因此捨棄不用\n",
        "\n",
        "2.填補Embarked欄位中的缺失值(以次數最多的\"S\"填補)\n",
        "\n",
        "3.填補Age欄位中的缺失值(用Pclass和Sex將乘客分組，並以每組的年齡平均值來填補Age欄位中的缺失值)\n",
        "\n",
        "4.填補Fare欄位中的缺失值(以Pclass分類平均值填補)\n",
        "\n",
        "5.將類別資料(Sex)轉換為數值(male=0,female=1)\n",
        "\n",
        "6.將類別資料(Embarked)轉換為數值(S=0,C=1,Q=2)\n",
        "    "
      ],
      "metadata": {
        "id": "mCKABsBVgLF7"
      }
    },
    {
      "cell_type": "code",
      "execution_count": null,
      "metadata": {
        "id": "XEiveGVH9Wzp"
      },
      "outputs": [],
      "source": [
        "def Data_aftercleaning(data):\n",
        "\n",
        "    data = data.drop(columns=\"Cabin\")\n",
        "    \n",
        "    data['Embarked'].fillna('S', inplace=True)\n",
        "\n",
        "    data['Age'] = data.groupby(['Pclass','Sex'])['Age'].transform(lambda x: x.fillna(x.mean()))\n",
        "    \n",
        "    data['Fare'] = data.groupby(['Pclass'])['Fare'].transform(lambda x: x.fillna(x.mean()))\n",
        "    \n",
        "    Sex_mapping = {'male':0, 'female':1}\n",
        "    data['Sex'] = data.Sex.map(Sex_mapping)\n",
        "    \n",
        "    Embarked_mapping = {'S':0, 'C':1, 'Q':2}\n",
        "    data['Embarked'] = data.Embarked.map(Embarked_mapping)\n",
        "\n",
        "    return data"
      ]
    },
    {
      "cell_type": "markdown",
      "source": [
        "清潔訓練資料&檢查訓練資料"
      ],
      "metadata": {
        "id": "GEgUN-d-hIjD"
      }
    },
    {
      "cell_type": "code",
      "execution_count": null,
      "metadata": {
        "id": "ciIEpg9l9WtX",
        "outputId": "c724ccb4-ebdf-468b-942d-393757188c55",
        "colab": {
          "base_uri": "https://localhost:8080/",
          "height": 206
        }
      },
      "outputs": [
        {
          "output_type": "execute_result",
          "data": {
            "text/plain": [
              "   Survived  Pclass  Sex   Age  SibSp  Parch     Fare  Embarked  Family\n",
              "0         0       3    0  22.0      1      0   7.2500         0       2\n",
              "1         1       1    1  38.0      1      0  71.2833         1       2\n",
              "2         1       3    1  26.0      0      0   7.9250         0       1\n",
              "3         1       1    1  35.0      1      0  53.1000         0       2\n",
              "4         0       3    0  35.0      0      0   8.0500         0       1"
            ],
            "text/html": [
              "\n",
              "  <div id=\"df-6374f394-5a0d-4ba6-8caf-ac9427fc3454\">\n",
              "    <div class=\"colab-df-container\">\n",
              "      <div>\n",
              "<style scoped>\n",
              "    .dataframe tbody tr th:only-of-type {\n",
              "        vertical-align: middle;\n",
              "    }\n",
              "\n",
              "    .dataframe tbody tr th {\n",
              "        vertical-align: top;\n",
              "    }\n",
              "\n",
              "    .dataframe thead th {\n",
              "        text-align: right;\n",
              "    }\n",
              "</style>\n",
              "<table border=\"1\" class=\"dataframe\">\n",
              "  <thead>\n",
              "    <tr style=\"text-align: right;\">\n",
              "      <th></th>\n",
              "      <th>Survived</th>\n",
              "      <th>Pclass</th>\n",
              "      <th>Sex</th>\n",
              "      <th>Age</th>\n",
              "      <th>SibSp</th>\n",
              "      <th>Parch</th>\n",
              "      <th>Fare</th>\n",
              "      <th>Embarked</th>\n",
              "      <th>Family</th>\n",
              "    </tr>\n",
              "  </thead>\n",
              "  <tbody>\n",
              "    <tr>\n",
              "      <th>0</th>\n",
              "      <td>0</td>\n",
              "      <td>3</td>\n",
              "      <td>0</td>\n",
              "      <td>22.0</td>\n",
              "      <td>1</td>\n",
              "      <td>0</td>\n",
              "      <td>7.2500</td>\n",
              "      <td>0</td>\n",
              "      <td>2</td>\n",
              "    </tr>\n",
              "    <tr>\n",
              "      <th>1</th>\n",
              "      <td>1</td>\n",
              "      <td>1</td>\n",
              "      <td>1</td>\n",
              "      <td>38.0</td>\n",
              "      <td>1</td>\n",
              "      <td>0</td>\n",
              "      <td>71.2833</td>\n",
              "      <td>1</td>\n",
              "      <td>2</td>\n",
              "    </tr>\n",
              "    <tr>\n",
              "      <th>2</th>\n",
              "      <td>1</td>\n",
              "      <td>3</td>\n",
              "      <td>1</td>\n",
              "      <td>26.0</td>\n",
              "      <td>0</td>\n",
              "      <td>0</td>\n",
              "      <td>7.9250</td>\n",
              "      <td>0</td>\n",
              "      <td>1</td>\n",
              "    </tr>\n",
              "    <tr>\n",
              "      <th>3</th>\n",
              "      <td>1</td>\n",
              "      <td>1</td>\n",
              "      <td>1</td>\n",
              "      <td>35.0</td>\n",
              "      <td>1</td>\n",
              "      <td>0</td>\n",
              "      <td>53.1000</td>\n",
              "      <td>0</td>\n",
              "      <td>2</td>\n",
              "    </tr>\n",
              "    <tr>\n",
              "      <th>4</th>\n",
              "      <td>0</td>\n",
              "      <td>3</td>\n",
              "      <td>0</td>\n",
              "      <td>35.0</td>\n",
              "      <td>0</td>\n",
              "      <td>0</td>\n",
              "      <td>8.0500</td>\n",
              "      <td>0</td>\n",
              "      <td>1</td>\n",
              "    </tr>\n",
              "  </tbody>\n",
              "</table>\n",
              "</div>\n",
              "      <button class=\"colab-df-convert\" onclick=\"convertToInteractive('df-6374f394-5a0d-4ba6-8caf-ac9427fc3454')\"\n",
              "              title=\"Convert this dataframe to an interactive table.\"\n",
              "              style=\"display:none;\">\n",
              "        \n",
              "  <svg xmlns=\"http://www.w3.org/2000/svg\" height=\"24px\"viewBox=\"0 0 24 24\"\n",
              "       width=\"24px\">\n",
              "    <path d=\"M0 0h24v24H0V0z\" fill=\"none\"/>\n",
              "    <path d=\"M18.56 5.44l.94 2.06.94-2.06 2.06-.94-2.06-.94-.94-2.06-.94 2.06-2.06.94zm-11 1L8.5 8.5l.94-2.06 2.06-.94-2.06-.94L8.5 2.5l-.94 2.06-2.06.94zm10 10l.94 2.06.94-2.06 2.06-.94-2.06-.94-.94-2.06-.94 2.06-2.06.94z\"/><path d=\"M17.41 7.96l-1.37-1.37c-.4-.4-.92-.59-1.43-.59-.52 0-1.04.2-1.43.59L10.3 9.45l-7.72 7.72c-.78.78-.78 2.05 0 2.83L4 21.41c.39.39.9.59 1.41.59.51 0 1.02-.2 1.41-.59l7.78-7.78 2.81-2.81c.8-.78.8-2.07 0-2.86zM5.41 20L4 18.59l7.72-7.72 1.47 1.35L5.41 20z\"/>\n",
              "  </svg>\n",
              "      </button>\n",
              "      \n",
              "  <style>\n",
              "    .colab-df-container {\n",
              "      display:flex;\n",
              "      flex-wrap:wrap;\n",
              "      gap: 12px;\n",
              "    }\n",
              "\n",
              "    .colab-df-convert {\n",
              "      background-color: #E8F0FE;\n",
              "      border: none;\n",
              "      border-radius: 50%;\n",
              "      cursor: pointer;\n",
              "      display: none;\n",
              "      fill: #1967D2;\n",
              "      height: 32px;\n",
              "      padding: 0 0 0 0;\n",
              "      width: 32px;\n",
              "    }\n",
              "\n",
              "    .colab-df-convert:hover {\n",
              "      background-color: #E2EBFA;\n",
              "      box-shadow: 0px 1px 2px rgba(60, 64, 67, 0.3), 0px 1px 3px 1px rgba(60, 64, 67, 0.15);\n",
              "      fill: #174EA6;\n",
              "    }\n",
              "\n",
              "    [theme=dark] .colab-df-convert {\n",
              "      background-color: #3B4455;\n",
              "      fill: #D2E3FC;\n",
              "    }\n",
              "\n",
              "    [theme=dark] .colab-df-convert:hover {\n",
              "      background-color: #434B5C;\n",
              "      box-shadow: 0px 1px 3px 1px rgba(0, 0, 0, 0.15);\n",
              "      filter: drop-shadow(0px 1px 2px rgba(0, 0, 0, 0.3));\n",
              "      fill: #FFFFFF;\n",
              "    }\n",
              "  </style>\n",
              "\n",
              "      <script>\n",
              "        const buttonEl =\n",
              "          document.querySelector('#df-6374f394-5a0d-4ba6-8caf-ac9427fc3454 button.colab-df-convert');\n",
              "        buttonEl.style.display =\n",
              "          google.colab.kernel.accessAllowed ? 'block' : 'none';\n",
              "\n",
              "        async function convertToInteractive(key) {\n",
              "          const element = document.querySelector('#df-6374f394-5a0d-4ba6-8caf-ac9427fc3454');\n",
              "          const dataTable =\n",
              "            await google.colab.kernel.invokeFunction('convertToInteractive',\n",
              "                                                     [key], {});\n",
              "          if (!dataTable) return;\n",
              "\n",
              "          const docLinkHtml = 'Like what you see? Visit the ' +\n",
              "            '<a target=\"_blank\" href=https://colab.research.google.com/notebooks/data_table.ipynb>data table notebook</a>'\n",
              "            + ' to learn more about interactive tables.';\n",
              "          element.innerHTML = '';\n",
              "          dataTable['output_type'] = 'display_data';\n",
              "          await google.colab.output.renderOutput(dataTable, element);\n",
              "          const docLink = document.createElement('div');\n",
              "          docLink.innerHTML = docLinkHtml;\n",
              "          element.appendChild(docLink);\n",
              "        }\n",
              "      </script>\n",
              "    </div>\n",
              "  </div>\n",
              "  "
            ]
          },
          "metadata": {},
          "execution_count": 233
        }
      ],
      "source": [
        "train = Data_aftercleaning(train)\n",
        "train.head()"
      ]
    },
    {
      "cell_type": "code",
      "execution_count": null,
      "metadata": {
        "id": "q8eB0qIvXrVh"
      },
      "outputs": [],
      "source": [
        "X_train = pd.get_dummies(train.drop('Survived', axis=1))\n",
        "y_train = train['Survived']"
      ]
    },
    {
      "cell_type": "markdown",
      "source": [
        "drop掉\"Family\"(測試後發現不是很優)"
      ],
      "metadata": {
        "id": "sFcnT2HyhVSA"
      }
    },
    {
      "cell_type": "code",
      "execution_count": null,
      "metadata": {
        "id": "4zz2frP0rpXw"
      },
      "outputs": [],
      "source": [
        "X_train.drop(columns = \"Family\", inplace=True)"
      ]
    },
    {
      "cell_type": "markdown",
      "metadata": {
        "id": "JXFsjpwFX0NH"
      },
      "source": [
        "## 模型訓練"
      ]
    },
    {
      "cell_type": "markdown",
      "metadata": {
        "id": "UWqqUk86rpXx"
      },
      "source": [
        "### 導入要使用的模型module"
      ]
    },
    {
      "cell_type": "code",
      "execution_count": null,
      "metadata": {
        "id": "EvFH37ZfES3u"
      },
      "outputs": [],
      "source": [
        "from sklearn.linear_model import LogisticRegression, Perceptron, SGDClassifier #邏輯回歸　#感知器　#　梯度下降\n",
        "from sklearn.svm import SVC, LinearSVC #支援向量機　#線性支援向量機\n",
        "from sklearn.ensemble import RandomForestClassifier # 隨機森林\n",
        "from sklearn.neighbors import KNeighborsClassifier #KNN\n",
        "from sklearn.naive_bayes import GaussianNB # 貝氏分類器\n",
        "from sklearn.tree import DecisionTreeClassifier # 決策樹模型\n",
        "\n",
        "from sklearn.model_selection import KFold \n",
        "from sklearn.metrics import accuracy_score"
      ]
    },
    {
      "cell_type": "markdown",
      "metadata": {
        "id": "aHKIYIR8rpX1"
      },
      "source": [
        "### 用k-fold進行驗證"
      ]
    },
    {
      "cell_type": "code",
      "execution_count": null,
      "metadata": {
        "scrolled": true,
        "id": "CfT0U06xrpX1",
        "outputId": "63f75bf9-9402-4e34-a1f7-cf4c0e0a57e8",
        "colab": {
          "base_uri": "https://localhost:8080/"
        }
      },
      "outputs": [
        {
          "output_type": "stream",
          "name": "stdout",
          "text": [
            "開始訓練LogisticRegression\n",
            "\n",
            "=========LogisticRegression=========\n",
            "average train accuracy: 0.8122941519454118\n",
            "min train accuracy: 0.8008415147265077\n",
            "max train accuracy: 0.8286516853932584\n",
            "average valid accuracy: 0.8081036971941498\n",
            "min valid accuracy: 0.7808988764044944\n",
            "max valid accuracy: 0.8370786516853933\n",
            "\n",
            "開始訓練Perceptron\n",
            "\n",
            "=========Perceptron=========\n",
            "average train accuracy: 0.7107375860819137\n",
            "min train accuracy: 0.6002805049088359\n",
            "max train accuracy: 0.7794943820224719\n",
            "average valid accuracy: 0.7115309773397779\n",
            "min valid accuracy: 0.6404494382022472\n",
            "max valid accuracy: 0.7921348314606742\n",
            "\n",
            "開始訓練SGD\n",
            "\n",
            "=========SGD=========\n",
            "average train accuracy: 0.7516924846746615\n",
            "min train accuracy: 0.6633941093969145\n",
            "max train accuracy: 0.7837078651685393\n",
            "average valid accuracy: 0.75868432615655\n",
            "min valid accuracy: 0.6910112359550562\n",
            "max valid accuracy: 0.8146067415730337\n",
            "\n",
            "開始訓練SVM\n",
            "\n",
            "=========SVM=========\n",
            "average train accuracy: 0.6835037899680099\n",
            "min train accuracy: 0.6633941093969145\n",
            "max train accuracy: 0.7040673211781207\n",
            "average valid accuracy: 0.6824430355909861\n",
            "min valid accuracy: 0.6123595505617978\n",
            "max valid accuracy: 0.7696629213483146\n",
            "\n",
            "開始訓練LinearSVC\n",
            "\n",
            "=========LinearSVC=========\n",
            "average train accuracy: 0.6958562491135729\n",
            "min train accuracy: 0.6661991584852734\n",
            "max train accuracy: 0.7275280898876404\n",
            "average valid accuracy: 0.6957880861213985\n",
            "min valid accuracy: 0.6292134831460674\n",
            "max valid accuracy: 0.7486033519553073\n",
            "\n",
            "開始訓練RandomForest\n",
            "\n"
          ]
        },
        {
          "output_type": "stream",
          "name": "stderr",
          "text": [
            "/usr/local/lib/python3.7/dist-packages/sklearn/svm/_base.py:1208: ConvergenceWarning: Liblinear failed to converge, increase the number of iterations.\n",
            "  ConvergenceWarning,\n",
            "/usr/local/lib/python3.7/dist-packages/sklearn/svm/_base.py:1208: ConvergenceWarning: Liblinear failed to converge, increase the number of iterations.\n",
            "  ConvergenceWarning,\n",
            "/usr/local/lib/python3.7/dist-packages/sklearn/svm/_base.py:1208: ConvergenceWarning: Liblinear failed to converge, increase the number of iterations.\n",
            "  ConvergenceWarning,\n",
            "/usr/local/lib/python3.7/dist-packages/sklearn/svm/_base.py:1208: ConvergenceWarning: Liblinear failed to converge, increase the number of iterations.\n",
            "  ConvergenceWarning,\n",
            "/usr/local/lib/python3.7/dist-packages/sklearn/svm/_base.py:1208: ConvergenceWarning: Liblinear failed to converge, increase the number of iterations.\n",
            "  ConvergenceWarning,\n"
          ]
        },
        {
          "output_type": "stream",
          "name": "stdout",
          "text": [
            "=========RandomForest=========\n",
            "average train accuracy: 0.9845686843059079\n",
            "min train accuracy: 0.9789621318373072\n",
            "max train accuracy: 0.9901823281907434\n",
            "average valid accuracy: 0.8024982738057874\n",
            "min valid accuracy: 0.7752808988764045\n",
            "max valid accuracy: 0.848314606741573\n",
            "\n",
            "開始訓練KNN\n",
            "\n",
            "=========KNN=========\n",
            "average train accuracy: 0.7954579479017287\n",
            "min train accuracy: 0.7755960729312763\n",
            "max train accuracy: 0.8075842696629213\n",
            "average valid accuracy: 0.7037662419182726\n",
            "min valid accuracy: 0.6480446927374302\n",
            "max valid accuracy: 0.7528089887640449\n",
            "\n",
            "開始訓練GNB\n",
            "\n",
            "=========GNB=========\n",
            "average train accuracy: 0.7943319885906991\n",
            "min train accuracy: 0.7896213183730715\n",
            "max train accuracy: 0.8008415147265077\n",
            "average valid accuracy: 0.7878727010231624\n",
            "min valid accuracy: 0.7415730337078652\n",
            "max valid accuracy: 0.8258426966292135\n",
            "\n",
            "開始訓練DecisionTree\n",
            "\n",
            "=========DecisionTree=========\n",
            "average train accuracy: 0.9848491892147437\n",
            "min train accuracy: 0.9789621318373072\n",
            "max train accuracy: 0.9915848527349228\n",
            "average valid accuracy: 0.7643587973134142\n",
            "min valid accuracy: 0.7206703910614525\n",
            "max valid accuracy: 0.8033707865168539\n",
            "\n"
          ]
        }
      ],
      "source": [
        "# K-fold挑選模型\n",
        "random_seed = 1012\n",
        "\n",
        "kf = KFold(n_splits=5,         # 設定 K 值，資料集分成５份\n",
        "           random_state=random_seed, # 控制隨機亂數\n",
        "           shuffle=True)  #將資料集重新排序\n",
        "\n",
        "#初始化要使用的model，同時設定超參數\n",
        "model_dict = {\"LogisticRegression\":LogisticRegression(max_iter =10000,random_state=random_seed),\n",
        "              \"Perceptron\":Perceptron(random_state=random_seed),\n",
        "              \"SGD\":SGDClassifier(random_state=random_seed),\n",
        "              \"SVM\":SVC(random_state=random_seed),\n",
        "              \"LinearSVC\":LinearSVC(random_state=random_seed),\n",
        "              \"RandomForest\":RandomForestClassifier(n_estimators=100,random_state=random_seed), #森林中有100棵樹，讓預測能力提升\n",
        "              \"KNN\":KNeighborsClassifier(5), #抓出最鄰近的5個點\n",
        "              \"GNB\":GaussianNB(),\n",
        "              \"DecisionTree\":DecisionTreeClassifier(random_state=random_seed)}\n",
        "\n",
        "\n",
        "avg_acc_dict = {}                                         #儲存每一個模型的平均準確度\n",
        "for model_name, model in model_dict.items():\n",
        "    print(f\"開始訓練{model_name}\")\n",
        "    print()\n",
        "    train_acc_list = []                                   # 儲存每次訓練模型的準確度\n",
        "    valid_acc_list = []                                   # 儲存每次驗證模型的準確度\n",
        "    for train_index, valid_index in kf.split(X_train):\n",
        "    \n",
        "        train_x_split = X_train.iloc[train_index]         # 產生訓練資料\n",
        "        train_y_split = y_train.iloc[train_index]         # 產生訓練資料標籤\n",
        "        valid_x_split = X_train.iloc[valid_index]         # 產生驗證資料\n",
        "        valid_y_split = y_train.iloc[valid_index]         # 產生驗證資料標籤\n",
        "    \n",
        "\n",
        "        model.fit(train_x_split, train_y_split)\n",
        "        train_pred_y = model.predict(train_x_split)       # 確認模型是否訓練成功\n",
        "        train_acc = accuracy_score(train_y_split,         # 計算訓練資料準確度\n",
        "                           train_pred_y)\n",
        "        valid_pred_y = model.predict(valid_x_split)       # 驗證模型是否訓練成功\n",
        "        valid_acc = accuracy_score(valid_y_split,         # 計算驗證資料準確度\n",
        "                           valid_pred_y)\n",
        "\n",
        "        train_acc_list.append(train_acc)\n",
        "        valid_acc_list.append(valid_acc)\n",
        "    print(f'========={model_name}=========')\n",
        "    print(f'average train accuracy: {np.mean(train_acc_list)}')  # 輸出平均訓練準確度\n",
        "    print(f'min train accuracy: {np.min(train_acc_list)}')   # 輸出最低訓練準確度\n",
        "    print(f'max train accuracy: {np.max(train_acc_list)}')   # 輸出最高訓練準確度\n",
        "    print(f'average valid accuracy: {np.mean(valid_acc_list)}')   # 輸出平均驗證準確度\n",
        "    print(f'min valid accuracy: {np.min(valid_acc_list)}')    # 輸出最低驗證準確度\n",
        "    print(f'max valid accuracy: {np.max(valid_acc_list)}')  # 輸出最高驗證準確度\n",
        "            \n",
        "    print()\n",
        "    #將每個模型的平均準確度存入字典\n",
        "    avg_acc_dict[model_name] = np.mean(train_acc_list)"
      ]
    },
    {
      "cell_type": "code",
      "execution_count": null,
      "metadata": {
        "id": "_1pLCc-KrpX1",
        "outputId": "b175e5d8-ccfa-4acc-b6d5-e59e86361b9f",
        "colab": {
          "base_uri": "https://localhost:8080/"
        }
      },
      "outputs": [
        {
          "output_type": "execute_result",
          "data": {
            "text/plain": [
              "{'DecisionTree': 0.9848491892147437,\n",
              " 'GNB': 0.7943319885906991,\n",
              " 'KNN': 0.7954579479017287,\n",
              " 'LinearSVC': 0.6958562491135729,\n",
              " 'LogisticRegression': 0.8122941519454118,\n",
              " 'Perceptron': 0.7107375860819137,\n",
              " 'RandomForest': 0.9845686843059079,\n",
              " 'SGD': 0.7516924846746615,\n",
              " 'SVM': 0.6835037899680099}"
            ]
          },
          "metadata": {},
          "execution_count": 238
        }
      ],
      "source": [
        "#每個模型的平均準確度\n",
        "avg_acc_dict"
      ]
    },
    {
      "cell_type": "code",
      "execution_count": null,
      "metadata": {
        "id": "dztHfu-drpX2",
        "outputId": "95250603-113f-4b4d-db00-83d36fb16311",
        "colab": {
          "base_uri": "https://localhost:8080/"
        }
      },
      "outputs": [
        {
          "output_type": "execute_result",
          "data": {
            "text/plain": [
              "[('DecisionTree', 0.9848491892147437),\n",
              " ('RandomForest', 0.9845686843059079),\n",
              " ('LogisticRegression', 0.8122941519454118),\n",
              " ('KNN', 0.7954579479017287),\n",
              " ('GNB', 0.7943319885906991),\n",
              " ('SGD', 0.7516924846746615),\n",
              " ('Perceptron', 0.7107375860819137),\n",
              " ('LinearSVC', 0.6958562491135729),\n",
              " ('SVM', 0.6835037899680099)]"
            ]
          },
          "metadata": {},
          "execution_count": 239
        }
      ],
      "source": [
        "#按照準確度高低排列\n",
        "sorted(avg_acc_dict.items(), key=lambda x: x[1] ,reverse= True)"
      ]
    },
    {
      "cell_type": "markdown",
      "metadata": {
        "id": "ek3ISZNKrpX2"
      },
      "source": [
        "### 用完整的資料做訓練"
      ]
    },
    {
      "cell_type": "code",
      "execution_count": null,
      "metadata": {
        "id": "xBhKyKYprpX2",
        "outputId": "6c35494e-6102-4293-ef1e-356c7d09e112",
        "colab": {
          "base_uri": "https://localhost:8080/",
          "height": 423
        }
      },
      "outputs": [
        {
          "output_type": "execute_result",
          "data": {
            "text/plain": [
              "     Pclass  Sex        Age  SibSp  Parch      Fare  Embarked\n",
              "0         3    0  34.500000      0      0    7.8292         2\n",
              "1         3    1  47.000000      1      0    7.0000         0\n",
              "2         2    0  62.000000      0      0    9.6875         2\n",
              "3         3    0  27.000000      0      0    8.6625         0\n",
              "4         3    1  22.000000      1      1   12.2875         0\n",
              "..      ...  ...        ...    ...    ...       ...       ...\n",
              "413       3    0  24.525104      0      0    8.0500         0\n",
              "414       1    1  39.000000      0      0  108.9000         1\n",
              "415       3    0  38.500000      0      0    7.2500         0\n",
              "416       3    0  24.525104      0      0    8.0500         0\n",
              "417       3    0  24.525104      1      1   22.3583         1\n",
              "\n",
              "[418 rows x 7 columns]"
            ],
            "text/html": [
              "\n",
              "  <div id=\"df-043f7b6f-ec05-4b05-92f4-de1c0bfd3969\">\n",
              "    <div class=\"colab-df-container\">\n",
              "      <div>\n",
              "<style scoped>\n",
              "    .dataframe tbody tr th:only-of-type {\n",
              "        vertical-align: middle;\n",
              "    }\n",
              "\n",
              "    .dataframe tbody tr th {\n",
              "        vertical-align: top;\n",
              "    }\n",
              "\n",
              "    .dataframe thead th {\n",
              "        text-align: right;\n",
              "    }\n",
              "</style>\n",
              "<table border=\"1\" class=\"dataframe\">\n",
              "  <thead>\n",
              "    <tr style=\"text-align: right;\">\n",
              "      <th></th>\n",
              "      <th>Pclass</th>\n",
              "      <th>Sex</th>\n",
              "      <th>Age</th>\n",
              "      <th>SibSp</th>\n",
              "      <th>Parch</th>\n",
              "      <th>Fare</th>\n",
              "      <th>Embarked</th>\n",
              "    </tr>\n",
              "  </thead>\n",
              "  <tbody>\n",
              "    <tr>\n",
              "      <th>0</th>\n",
              "      <td>3</td>\n",
              "      <td>0</td>\n",
              "      <td>34.500000</td>\n",
              "      <td>0</td>\n",
              "      <td>0</td>\n",
              "      <td>7.8292</td>\n",
              "      <td>2</td>\n",
              "    </tr>\n",
              "    <tr>\n",
              "      <th>1</th>\n",
              "      <td>3</td>\n",
              "      <td>1</td>\n",
              "      <td>47.000000</td>\n",
              "      <td>1</td>\n",
              "      <td>0</td>\n",
              "      <td>7.0000</td>\n",
              "      <td>0</td>\n",
              "    </tr>\n",
              "    <tr>\n",
              "      <th>2</th>\n",
              "      <td>2</td>\n",
              "      <td>0</td>\n",
              "      <td>62.000000</td>\n",
              "      <td>0</td>\n",
              "      <td>0</td>\n",
              "      <td>9.6875</td>\n",
              "      <td>2</td>\n",
              "    </tr>\n",
              "    <tr>\n",
              "      <th>3</th>\n",
              "      <td>3</td>\n",
              "      <td>0</td>\n",
              "      <td>27.000000</td>\n",
              "      <td>0</td>\n",
              "      <td>0</td>\n",
              "      <td>8.6625</td>\n",
              "      <td>0</td>\n",
              "    </tr>\n",
              "    <tr>\n",
              "      <th>4</th>\n",
              "      <td>3</td>\n",
              "      <td>1</td>\n",
              "      <td>22.000000</td>\n",
              "      <td>1</td>\n",
              "      <td>1</td>\n",
              "      <td>12.2875</td>\n",
              "      <td>0</td>\n",
              "    </tr>\n",
              "    <tr>\n",
              "      <th>...</th>\n",
              "      <td>...</td>\n",
              "      <td>...</td>\n",
              "      <td>...</td>\n",
              "      <td>...</td>\n",
              "      <td>...</td>\n",
              "      <td>...</td>\n",
              "      <td>...</td>\n",
              "    </tr>\n",
              "    <tr>\n",
              "      <th>413</th>\n",
              "      <td>3</td>\n",
              "      <td>0</td>\n",
              "      <td>24.525104</td>\n",
              "      <td>0</td>\n",
              "      <td>0</td>\n",
              "      <td>8.0500</td>\n",
              "      <td>0</td>\n",
              "    </tr>\n",
              "    <tr>\n",
              "      <th>414</th>\n",
              "      <td>1</td>\n",
              "      <td>1</td>\n",
              "      <td>39.000000</td>\n",
              "      <td>0</td>\n",
              "      <td>0</td>\n",
              "      <td>108.9000</td>\n",
              "      <td>1</td>\n",
              "    </tr>\n",
              "    <tr>\n",
              "      <th>415</th>\n",
              "      <td>3</td>\n",
              "      <td>0</td>\n",
              "      <td>38.500000</td>\n",
              "      <td>0</td>\n",
              "      <td>0</td>\n",
              "      <td>7.2500</td>\n",
              "      <td>0</td>\n",
              "    </tr>\n",
              "    <tr>\n",
              "      <th>416</th>\n",
              "      <td>3</td>\n",
              "      <td>0</td>\n",
              "      <td>24.525104</td>\n",
              "      <td>0</td>\n",
              "      <td>0</td>\n",
              "      <td>8.0500</td>\n",
              "      <td>0</td>\n",
              "    </tr>\n",
              "    <tr>\n",
              "      <th>417</th>\n",
              "      <td>3</td>\n",
              "      <td>0</td>\n",
              "      <td>24.525104</td>\n",
              "      <td>1</td>\n",
              "      <td>1</td>\n",
              "      <td>22.3583</td>\n",
              "      <td>1</td>\n",
              "    </tr>\n",
              "  </tbody>\n",
              "</table>\n",
              "<p>418 rows × 7 columns</p>\n",
              "</div>\n",
              "      <button class=\"colab-df-convert\" onclick=\"convertToInteractive('df-043f7b6f-ec05-4b05-92f4-de1c0bfd3969')\"\n",
              "              title=\"Convert this dataframe to an interactive table.\"\n",
              "              style=\"display:none;\">\n",
              "        \n",
              "  <svg xmlns=\"http://www.w3.org/2000/svg\" height=\"24px\"viewBox=\"0 0 24 24\"\n",
              "       width=\"24px\">\n",
              "    <path d=\"M0 0h24v24H0V0z\" fill=\"none\"/>\n",
              "    <path d=\"M18.56 5.44l.94 2.06.94-2.06 2.06-.94-2.06-.94-.94-2.06-.94 2.06-2.06.94zm-11 1L8.5 8.5l.94-2.06 2.06-.94-2.06-.94L8.5 2.5l-.94 2.06-2.06.94zm10 10l.94 2.06.94-2.06 2.06-.94-2.06-.94-.94-2.06-.94 2.06-2.06.94z\"/><path d=\"M17.41 7.96l-1.37-1.37c-.4-.4-.92-.59-1.43-.59-.52 0-1.04.2-1.43.59L10.3 9.45l-7.72 7.72c-.78.78-.78 2.05 0 2.83L4 21.41c.39.39.9.59 1.41.59.51 0 1.02-.2 1.41-.59l7.78-7.78 2.81-2.81c.8-.78.8-2.07 0-2.86zM5.41 20L4 18.59l7.72-7.72 1.47 1.35L5.41 20z\"/>\n",
              "  </svg>\n",
              "      </button>\n",
              "      \n",
              "  <style>\n",
              "    .colab-df-container {\n",
              "      display:flex;\n",
              "      flex-wrap:wrap;\n",
              "      gap: 12px;\n",
              "    }\n",
              "\n",
              "    .colab-df-convert {\n",
              "      background-color: #E8F0FE;\n",
              "      border: none;\n",
              "      border-radius: 50%;\n",
              "      cursor: pointer;\n",
              "      display: none;\n",
              "      fill: #1967D2;\n",
              "      height: 32px;\n",
              "      padding: 0 0 0 0;\n",
              "      width: 32px;\n",
              "    }\n",
              "\n",
              "    .colab-df-convert:hover {\n",
              "      background-color: #E2EBFA;\n",
              "      box-shadow: 0px 1px 2px rgba(60, 64, 67, 0.3), 0px 1px 3px 1px rgba(60, 64, 67, 0.15);\n",
              "      fill: #174EA6;\n",
              "    }\n",
              "\n",
              "    [theme=dark] .colab-df-convert {\n",
              "      background-color: #3B4455;\n",
              "      fill: #D2E3FC;\n",
              "    }\n",
              "\n",
              "    [theme=dark] .colab-df-convert:hover {\n",
              "      background-color: #434B5C;\n",
              "      box-shadow: 0px 1px 3px 1px rgba(0, 0, 0, 0.15);\n",
              "      filter: drop-shadow(0px 1px 2px rgba(0, 0, 0, 0.3));\n",
              "      fill: #FFFFFF;\n",
              "    }\n",
              "  </style>\n",
              "\n",
              "      <script>\n",
              "        const buttonEl =\n",
              "          document.querySelector('#df-043f7b6f-ec05-4b05-92f4-de1c0bfd3969 button.colab-df-convert');\n",
              "        buttonEl.style.display =\n",
              "          google.colab.kernel.accessAllowed ? 'block' : 'none';\n",
              "\n",
              "        async function convertToInteractive(key) {\n",
              "          const element = document.querySelector('#df-043f7b6f-ec05-4b05-92f4-de1c0bfd3969');\n",
              "          const dataTable =\n",
              "            await google.colab.kernel.invokeFunction('convertToInteractive',\n",
              "                                                     [key], {});\n",
              "          if (!dataTable) return;\n",
              "\n",
              "          const docLinkHtml = 'Like what you see? Visit the ' +\n",
              "            '<a target=\"_blank\" href=https://colab.research.google.com/notebooks/data_table.ipynb>data table notebook</a>'\n",
              "            + ' to learn more about interactive tables.';\n",
              "          element.innerHTML = '';\n",
              "          dataTable['output_type'] = 'display_data';\n",
              "          await google.colab.output.renderOutput(dataTable, element);\n",
              "          const docLink = document.createElement('div');\n",
              "          docLink.innerHTML = docLinkHtml;\n",
              "          element.appendChild(docLink);\n",
              "        }\n",
              "      </script>\n",
              "    </div>\n",
              "  </div>\n",
              "  "
            ]
          },
          "metadata": {},
          "execution_count": 240
        }
      ],
      "source": [
        "#清潔測試資料集\n",
        "test = Data_aftercleaning(test)\n",
        "test"
      ]
    },
    {
      "cell_type": "code",
      "execution_count": null,
      "metadata": {
        "colab": {
          "base_uri": "https://localhost:8080/"
        },
        "id": "bwkZC99pX0NH",
        "outputId": "4f33ced4-dc66-4564-bba3-e74a1b45c1ea"
      },
      "outputs": [
        {
          "output_type": "execute_result",
          "data": {
            "text/plain": [
              "array([0, 0, 0, 1, 1, 0, 0, 0, 1, 0, 0, 0, 1, 0, 1, 1, 0, 1, 0, 0, 1, 1,\n",
              "       1, 1, 1, 0, 1, 1, 1, 0, 0, 0, 1, 0, 1, 1, 0, 0, 0, 1, 0, 1, 0, 1,\n",
              "       1, 0, 1, 0, 1, 1, 1, 0, 1, 1, 0, 0, 0, 0, 0, 1, 0, 0, 0, 1, 1, 1,\n",
              "       1, 0, 0, 1, 1, 0, 0, 1, 1, 0, 0, 1, 0, 1, 1, 0, 0, 0, 0, 0, 1, 0,\n",
              "       1, 1, 1, 0, 1, 0, 0, 0, 1, 0, 0, 0, 1, 0, 0, 0, 1, 0, 0, 0, 0, 0,\n",
              "       0, 1, 1, 1, 1, 0, 0, 1, 0, 1, 1, 0, 1, 0, 0, 1, 0, 1, 0, 0, 1, 0,\n",
              "       0, 0, 0, 0, 0, 0, 0, 0, 0, 1, 0, 0, 1, 0, 0, 0, 1, 0, 1, 0, 0, 1,\n",
              "       0, 0, 1, 1, 1, 1, 1, 1, 1, 0, 0, 0, 0, 0, 1, 0, 0, 0, 0, 0, 0, 1,\n",
              "       1, 1, 1, 1, 0, 0, 1, 0, 1, 0, 1, 0, 0, 0, 0, 0, 1, 0, 1, 0, 1, 0,\n",
              "       0, 0, 1, 1, 0, 1, 0, 0, 0, 0, 1, 0, 0, 0, 0, 0, 0, 0, 1, 0, 1, 0,\n",
              "       1, 0, 1, 1, 1, 0, 0, 1, 0, 0, 0, 1, 0, 0, 1, 0, 1, 1, 1, 1, 1, 1,\n",
              "       0, 0, 0, 0, 1, 0, 1, 0, 1, 0, 0, 0, 0, 0, 0, 0, 1, 0, 0, 0, 1, 1,\n",
              "       0, 0, 0, 0, 0, 0, 0, 0, 1, 1, 0, 1, 0, 0, 0, 0, 0, 1, 1, 0, 1, 0,\n",
              "       0, 0, 0, 0, 0, 0, 0, 0, 0, 0, 1, 0, 0, 0, 0, 0, 0, 0, 1, 1, 1, 1,\n",
              "       0, 0, 0, 1, 0, 0, 1, 1, 0, 1, 0, 0, 0, 0, 0, 1, 1, 0, 1, 0, 0, 0,\n",
              "       1, 1, 0, 1, 0, 0, 1, 0, 0, 0, 0, 0, 0, 1, 0, 1, 0, 0, 0, 1, 1, 0,\n",
              "       0, 0, 1, 0, 1, 0, 0, 0, 0, 1, 1, 1, 1, 0, 0, 0, 1, 0, 0, 1, 0, 0,\n",
              "       1, 1, 0, 0, 0, 0, 0, 0, 1, 1, 1, 1, 0, 0, 0, 0, 0, 1, 0, 0, 0, 1,\n",
              "       0, 1, 0, 0, 1, 0, 1, 0, 0, 0, 0, 0, 1, 1, 1, 1, 0, 0, 1, 0, 0, 1])"
            ]
          },
          "metadata": {},
          "execution_count": 241
        }
      ],
      "source": [
        "#從k-fold選出了第一名模型 => 隨機森林\n",
        "\n",
        "#模型初始化，設定超參數\n",
        "model = RandomForestClassifier(n_estimators=100)\n",
        "#模型訓練\n",
        "model.fit(X_train, y_train)\n",
        "#模型預測測試資料集\n",
        "preds = model.predict(test)\n",
        "#預測結果\n",
        "preds"
      ]
    },
    {
      "cell_type": "code",
      "execution_count": null,
      "metadata": {
        "colab": {
          "base_uri": "https://localhost:8080/"
        },
        "id": "LVVFHCeYX0NI",
        "outputId": "9daf5abc-f512-440a-9ad7-6e19d9e29111"
      },
      "outputs": [
        {
          "output_type": "stream",
          "name": "stdout",
          "text": [
            "total execution time: 160.14842915534973\n"
          ]
        }
      ],
      "source": [
        "EXECUTION_END_TIME = time.time() # 計算執行時間\n",
        "print('total execution time: {}'.format(EXECUTION_END_TIME - EXECUTION_START_TIME))"
      ]
    },
    {
      "cell_type": "code",
      "execution_count": null,
      "metadata": {
        "id": "F3hxOKrorpX4",
        "outputId": "14ace332-4d71-4891-bdf1-68605727535f",
        "colab": {
          "base_uri": "https://localhost:8080/",
          "height": 455
        }
      },
      "outputs": [
        {
          "output_type": "execute_result",
          "data": {
            "text/plain": [
              "             Survived\n",
              "PassengerId          \n",
              "892                 0\n",
              "893                 0\n",
              "894                 0\n",
              "895                 1\n",
              "896                 1\n",
              "...               ...\n",
              "1305                0\n",
              "1306                1\n",
              "1307                0\n",
              "1308                0\n",
              "1309                1\n",
              "\n",
              "[418 rows x 1 columns]"
            ],
            "text/html": [
              "\n",
              "  <div id=\"df-94505cf9-c4d9-4aca-b65f-bccf93ece6b1\">\n",
              "    <div class=\"colab-df-container\">\n",
              "      <div>\n",
              "<style scoped>\n",
              "    .dataframe tbody tr th:only-of-type {\n",
              "        vertical-align: middle;\n",
              "    }\n",
              "\n",
              "    .dataframe tbody tr th {\n",
              "        vertical-align: top;\n",
              "    }\n",
              "\n",
              "    .dataframe thead th {\n",
              "        text-align: right;\n",
              "    }\n",
              "</style>\n",
              "<table border=\"1\" class=\"dataframe\">\n",
              "  <thead>\n",
              "    <tr style=\"text-align: right;\">\n",
              "      <th></th>\n",
              "      <th>Survived</th>\n",
              "    </tr>\n",
              "    <tr>\n",
              "      <th>PassengerId</th>\n",
              "      <th></th>\n",
              "    </tr>\n",
              "  </thead>\n",
              "  <tbody>\n",
              "    <tr>\n",
              "      <th>892</th>\n",
              "      <td>0</td>\n",
              "    </tr>\n",
              "    <tr>\n",
              "      <th>893</th>\n",
              "      <td>0</td>\n",
              "    </tr>\n",
              "    <tr>\n",
              "      <th>894</th>\n",
              "      <td>0</td>\n",
              "    </tr>\n",
              "    <tr>\n",
              "      <th>895</th>\n",
              "      <td>1</td>\n",
              "    </tr>\n",
              "    <tr>\n",
              "      <th>896</th>\n",
              "      <td>1</td>\n",
              "    </tr>\n",
              "    <tr>\n",
              "      <th>...</th>\n",
              "      <td>...</td>\n",
              "    </tr>\n",
              "    <tr>\n",
              "      <th>1305</th>\n",
              "      <td>0</td>\n",
              "    </tr>\n",
              "    <tr>\n",
              "      <th>1306</th>\n",
              "      <td>1</td>\n",
              "    </tr>\n",
              "    <tr>\n",
              "      <th>1307</th>\n",
              "      <td>0</td>\n",
              "    </tr>\n",
              "    <tr>\n",
              "      <th>1308</th>\n",
              "      <td>0</td>\n",
              "    </tr>\n",
              "    <tr>\n",
              "      <th>1309</th>\n",
              "      <td>1</td>\n",
              "    </tr>\n",
              "  </tbody>\n",
              "</table>\n",
              "<p>418 rows × 1 columns</p>\n",
              "</div>\n",
              "      <button class=\"colab-df-convert\" onclick=\"convertToInteractive('df-94505cf9-c4d9-4aca-b65f-bccf93ece6b1')\"\n",
              "              title=\"Convert this dataframe to an interactive table.\"\n",
              "              style=\"display:none;\">\n",
              "        \n",
              "  <svg xmlns=\"http://www.w3.org/2000/svg\" height=\"24px\"viewBox=\"0 0 24 24\"\n",
              "       width=\"24px\">\n",
              "    <path d=\"M0 0h24v24H0V0z\" fill=\"none\"/>\n",
              "    <path d=\"M18.56 5.44l.94 2.06.94-2.06 2.06-.94-2.06-.94-.94-2.06-.94 2.06-2.06.94zm-11 1L8.5 8.5l.94-2.06 2.06-.94-2.06-.94L8.5 2.5l-.94 2.06-2.06.94zm10 10l.94 2.06.94-2.06 2.06-.94-2.06-.94-.94-2.06-.94 2.06-2.06.94z\"/><path d=\"M17.41 7.96l-1.37-1.37c-.4-.4-.92-.59-1.43-.59-.52 0-1.04.2-1.43.59L10.3 9.45l-7.72 7.72c-.78.78-.78 2.05 0 2.83L4 21.41c.39.39.9.59 1.41.59.51 0 1.02-.2 1.41-.59l7.78-7.78 2.81-2.81c.8-.78.8-2.07 0-2.86zM5.41 20L4 18.59l7.72-7.72 1.47 1.35L5.41 20z\"/>\n",
              "  </svg>\n",
              "      </button>\n",
              "      \n",
              "  <style>\n",
              "    .colab-df-container {\n",
              "      display:flex;\n",
              "      flex-wrap:wrap;\n",
              "      gap: 12px;\n",
              "    }\n",
              "\n",
              "    .colab-df-convert {\n",
              "      background-color: #E8F0FE;\n",
              "      border: none;\n",
              "      border-radius: 50%;\n",
              "      cursor: pointer;\n",
              "      display: none;\n",
              "      fill: #1967D2;\n",
              "      height: 32px;\n",
              "      padding: 0 0 0 0;\n",
              "      width: 32px;\n",
              "    }\n",
              "\n",
              "    .colab-df-convert:hover {\n",
              "      background-color: #E2EBFA;\n",
              "      box-shadow: 0px 1px 2px rgba(60, 64, 67, 0.3), 0px 1px 3px 1px rgba(60, 64, 67, 0.15);\n",
              "      fill: #174EA6;\n",
              "    }\n",
              "\n",
              "    [theme=dark] .colab-df-convert {\n",
              "      background-color: #3B4455;\n",
              "      fill: #D2E3FC;\n",
              "    }\n",
              "\n",
              "    [theme=dark] .colab-df-convert:hover {\n",
              "      background-color: #434B5C;\n",
              "      box-shadow: 0px 1px 3px 1px rgba(0, 0, 0, 0.15);\n",
              "      filter: drop-shadow(0px 1px 2px rgba(0, 0, 0, 0.3));\n",
              "      fill: #FFFFFF;\n",
              "    }\n",
              "  </style>\n",
              "\n",
              "      <script>\n",
              "        const buttonEl =\n",
              "          document.querySelector('#df-94505cf9-c4d9-4aca-b65f-bccf93ece6b1 button.colab-df-convert');\n",
              "        buttonEl.style.display =\n",
              "          google.colab.kernel.accessAllowed ? 'block' : 'none';\n",
              "\n",
              "        async function convertToInteractive(key) {\n",
              "          const element = document.querySelector('#df-94505cf9-c4d9-4aca-b65f-bccf93ece6b1');\n",
              "          const dataTable =\n",
              "            await google.colab.kernel.invokeFunction('convertToInteractive',\n",
              "                                                     [key], {});\n",
              "          if (!dataTable) return;\n",
              "\n",
              "          const docLinkHtml = 'Like what you see? Visit the ' +\n",
              "            '<a target=\"_blank\" href=https://colab.research.google.com/notebooks/data_table.ipynb>data table notebook</a>'\n",
              "            + ' to learn more about interactive tables.';\n",
              "          element.innerHTML = '';\n",
              "          dataTable['output_type'] = 'display_data';\n",
              "          await google.colab.output.renderOutput(dataTable, element);\n",
              "          const docLink = document.createElement('div');\n",
              "          docLink.innerHTML = docLinkHtml;\n",
              "          element.appendChild(docLink);\n",
              "        }\n",
              "      </script>\n",
              "    </div>\n",
              "  </div>\n",
              "  "
            ]
          },
          "metadata": {},
          "execution_count": 243
        }
      ],
      "source": [
        "#submission: index使用PassengerId，Column name使用Survived\n",
        "submission = pd.DataFrame(preds,index=PassengerId,columns=[\"Survived\"])\n",
        "submission"
      ]
    },
    {
      "cell_type": "code",
      "execution_count": null,
      "metadata": {
        "id": "c1XxkcqVrpX4"
      },
      "outputs": [],
      "source": [
        "#儲存成csv檔\n",
        "submission.to_csv(\"my_submission.csv\")"
      ]
    },
    {
      "cell_type": "markdown",
      "source": [
        "![kaggle Titanic.jpg](data:image/jpeg;base64,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)"
      ],
      "metadata": {
        "id": "eb1Z5pdYnyki"
      }
    },
    {
      "cell_type": "markdown",
      "metadata": {
        "id": "6jewxZrNX0NC"
      },
      "source": [
        "## 參考連結\n",
        "\n",
        "1.https://reurl.cc/1Z7VyV\n",
        "\n",
        "2.https://reurl.cc/an8YQZ\n",
        "\n",
        "3.https://zhuanlan.zhihu.com/p/50194676\n",
        "\n",
        "4.https://www.kaggle.com/code/startupsci/titanic-data-science-solutions/notebook\n",
        "\n",
        "5.https://www.kaggle.com/code/osemds/first-titanic-and-also-kaggle-attempt/notebook\n",
        "\n",
        "6.https://www.kaggle.com/code/amirhosainmahdiani/titanic-dataset-prediction\n",
        "\n",
        "7.https://reurl.cc/41vzE2\n",
        "\n",
        "8.https://reurl.cc/RrEVar\n",
        "\n",
        "9.https://yaojenkuo.io/ml-newbies/04-sklearn.html\n",
        "\n",
        "10.https://www.kaggle.com/code/ldfreeman3/a-data-science-framework-to-achieve-99-accuracy\n",
        "\n",
        "11.https://www.kaggle.com/code/yassineghouzam/titanic-top-4-with-ensemble-modeling\n",
        "\n",
        "12.https://www.kaggle.com/code/gunesevitan/titanic-advanced-feature-engineering-tutorial\n",
        "\n",
        "13.https://www.kaggle.com/code/arthurtok/introduction-to-ensembling-stacking-in-python\n",
        "\n",
        "14.https://www.kaggle.com/code/sinakhorami/titanic-best-working-classifier/notebook\n"
      ]
    }
  ],
  "metadata": {
    "colab": {
      "collapsed_sections": [],
      "name": "Kaggle Titanic.ipynb",
      "provenance": []
    },
    "kernelspec": {
      "display_name": "Python 3 (ipykernel)",
      "language": "python",
      "name": "python3"
    },
    "language_info": {
      "codemirror_mode": {
        "name": "ipython",
        "version": 3
      },
      "file_extension": ".py",
      "mimetype": "text/x-python",
      "name": "python",
      "nbconvert_exporter": "python",
      "pygments_lexer": "ipython3",
      "version": "3.7.11"
    }
  },
  "nbformat": 4,
  "nbformat_minor": 0
}